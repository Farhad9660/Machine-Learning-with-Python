{
 "cells": [
  {
   "cell_type": "markdown",
   "id": "66269cc0",
   "metadata": {},
   "source": [
    "# Calssification Metrics"
   ]
  },
  {
   "cell_type": "code",
   "execution_count": 50,
   "id": "ebf2063c",
   "metadata": {},
   "outputs": [],
   "source": [
    "import numpy as np\n",
    "import pandas as pd\n",
    "import matplotlib.pyplot as plt\n",
    "import seaborn as sns\n",
    "%matplotlib inline"
   ]
  },
  {
   "cell_type": "code",
   "execution_count": 51,
   "id": "695497ee",
   "metadata": {},
   "outputs": [],
   "source": [
    "from sklearn import datasets"
   ]
  },
  {
   "cell_type": "code",
   "execution_count": 3,
   "id": "9c6bf95a",
   "metadata": {},
   "outputs": [],
   "source": [
    "iris = datasets.load_iris()\n",
    "X = iris.data\n",
    "y = iris.target"
   ]
  },
  {
   "cell_type": "markdown",
   "id": "93f845d3",
   "metadata": {},
   "source": [
    "## Sklearn Metrics"
   ]
  },
  {
   "cell_type": "code",
   "execution_count": 61,
   "id": "81efa6ca",
   "metadata": {},
   "outputs": [],
   "source": [
    "from sklearn.metrics import confusion_matrix\n",
    "from sklearn.metrics import classification_report"
   ]
  },
  {
   "cell_type": "code",
   "execution_count": 5,
   "id": "e736b4fc",
   "metadata": {},
   "outputs": [],
   "source": [
    "from sklearn.neighbors import KNeighborsClassifier\n",
    "from sklearn.model_selection import train_test_split\n",
    "\n",
    "X_train, X_test, y_train, y_test = train_test_split(X, y, test_size= 0.3, stratify= y, random_state= 21)\n",
    "\n",
    "knn = KNeighborsClassifier(n_neighbors = 8)\n",
    "knn.fit(X_train, y_train)\n",
    "\n",
    "y_pred = knn.predict(X_test)"
   ]
  },
  {
   "cell_type": "markdown",
   "id": "703e054c",
   "metadata": {},
   "source": [
    "### Confusion Matrix"
   ]
  },
  {
   "cell_type": "code",
   "execution_count": 6,
   "id": "995d2614",
   "metadata": {
    "scrolled": true
   },
   "outputs": [
    {
     "name": "stdout",
     "output_type": "stream",
     "text": [
      "[[15  0  0]\n",
      " [ 0 14  1]\n",
      " [ 0  1 14]]\n"
     ]
    }
   ],
   "source": [
    "print(confusion_matrix(y_test, y_pred))"
   ]
  },
  {
   "cell_type": "code",
   "execution_count": 15,
   "id": "0de7f3c7",
   "metadata": {},
   "outputs": [
    {
     "data": {
      "text/plain": [
       "<AxesSubplot:>"
      ]
     },
     "execution_count": 15,
     "metadata": {},
     "output_type": "execute_result"
    },
    {
     "data": {
      "image/png": "[encoded data removed]",
      "text/plain": [
       "<Figure size 432x288 with 2 Axes>"
      ]
     },
     "metadata": {
      "needs_background": "light"
     },
     "output_type": "display_data"
    }
   ],
   "source": [
    "sns.heatmap(confusion_matrix(y_test, y_pred), cmap = 'coolwarm', lw = 2)"
   ]
  },
  {
   "cell_type": "markdown",
   "id": "e87fa933",
   "metadata": {},
   "source": [
    "### Calssification performance report"
   ]
  },
  {
   "cell_type": "code",
   "execution_count": 9,
   "id": "08d7598f",
   "metadata": {},
   "outputs": [
    {
     "name": "stdout",
     "output_type": "stream",
     "text": [
      "              precision    recall  f1-score   support\n",
      "\n",
      "           0       1.00      1.00      1.00        15\n",
      "           1       0.93      0.93      0.93        15\n",
      "           2       0.93      0.93      0.93        15\n",
      "\n",
      "    accuracy                           0.96        45\n",
      "   macro avg       0.96      0.96      0.96        45\n",
      "weighted avg       0.96      0.96      0.96        45\n",
      "\n"
     ]
    }
   ],
   "source": [
    "print(classification_report(y_test, y_pred))"
   ]
  },
  {
   "cell_type": "markdown",
   "id": "43cd2d4d",
   "metadata": {},
   "source": [
    "## Logistic Regression"
   ]
  },
  {
   "cell_type": "code",
   "execution_count": 52,
   "id": "5c21c2aa",
   "metadata": {},
   "outputs": [],
   "source": [
    "breast = datasets.load_breast_cancer()"
   ]
  },
  {
   "cell_type": "code",
   "execution_count": 62,
   "id": "220ef5c9",
   "metadata": {},
   "outputs": [
    {
     "data": {
      "text/plain": [
       "array(['malignant', 'benign'], dtype='<U9')"
      ]
     },
     "execution_count": 62,
     "metadata": {},
     "output_type": "execute_result"
    }
   ],
   "source": [
    "breast.target_names"
   ]
  },
  {
   "cell_type": "code",
   "execution_count": 54,
   "id": "b07c7c93",
   "metadata": {},
   "outputs": [],
   "source": [
    "X= breast.data\n",
    "y = breast.target"
   ]
  },
  {
   "cell_type": "code",
   "execution_count": 55,
   "id": "f7dd65ec",
   "metadata": {
    "scrolled": true
   },
   "outputs": [
    {
     "data": {
      "text/plain": [
       "(569, 30)"
      ]
     },
     "execution_count": 55,
     "metadata": {},
     "output_type": "execute_result"
    }
   ],
   "source": [
    "X.shape"
   ]
  },
  {
   "cell_type": "code",
   "execution_count": 56,
   "id": "2eaab261",
   "metadata": {},
   "outputs": [
    {
     "data": {
      "text/plain": [
       "(569,)"
      ]
     },
     "execution_count": 56,
     "metadata": {},
     "output_type": "execute_result"
    }
   ],
   "source": [
    "y.shape"
   ]
  },
  {
   "cell_type": "code",
   "execution_count": 16,
   "id": "f3ac774e",
   "metadata": {},
   "outputs": [],
   "source": [
    "# the same procdure \n",
    "from sklearn.linear_model import LogisticRegression\n",
    "from sklearn.model_selection import train_test_split\n"
   ]
  },
  {
   "cell_type": "code",
   "execution_count": 57,
   "id": "857d50d8",
   "metadata": {},
   "outputs": [
    {
     "name": "stderr",
     "output_type": "stream",
     "text": [
      "E:\\DataScience-Software\\Softs\\Anaconda\\lib\\site-packages\\sklearn\\linear_model\\_logistic.py:763: ConvergenceWarning: lbfgs failed to converge (status=1):\n",
      "STOP: TOTAL NO. of ITERATIONS REACHED LIMIT.\n",
      "\n",
      "Increase the number of iterations (max_iter) or scale the data as shown in:\n",
      "    https://scikit-learn.org/stable/modules/preprocessing.html\n",
      "Please also refer to the documentation for alternative solver options:\n",
      "    https://scikit-learn.org/stable/modules/linear_model.html#logistic-regression\n",
      "  n_iter_i = _check_optimize_result(\n"
     ]
    },
    {
     "data": {
      "text/plain": [
       "LogisticRegression()"
      ]
     },
     "execution_count": 57,
     "metadata": {},
     "output_type": "execute_result"
    }
   ],
   "source": [
    "X_train, X_test, y_train, y_test = train_test_split(X, y, test_size= 0.3, stratify= y, random_state= 21)\n",
    "logreg = LogisticRegression()\n",
    "logreg.fit(X_train,  y_train)"
   ]
  },
  {
   "cell_type": "code",
   "execution_count": 58,
   "id": "80b8af32",
   "metadata": {},
   "outputs": [
    {
     "data": {
      "text/plain": [
       "0.9473684210526315"
      ]
     },
     "execution_count": 58,
     "metadata": {},
     "output_type": "execute_result"
    }
   ],
   "source": [
    "logreg.score(X_test, y_test)"
   ]
  },
  {
   "cell_type": "code",
   "execution_count": 59,
   "id": "b4c09662",
   "metadata": {},
   "outputs": [],
   "source": [
    "y_pred = logreg.predict(X_test)"
   ]
  },
  {
   "cell_type": "code",
   "execution_count": 60,
   "id": "43ced1af",
   "metadata": {
    "scrolled": false
   },
   "outputs": [
    {
     "name": "stdout",
     "output_type": "stream",
     "text": [
      "              precision    recall  f1-score   support\n",
      "\n",
      "           0       0.95      0.91      0.93        64\n",
      "           1       0.95      0.97      0.96       107\n",
      "\n",
      "    accuracy                           0.95       171\n",
      "   macro avg       0.95      0.94      0.94       171\n",
      "weighted avg       0.95      0.95      0.95       171\n",
      "\n"
     ]
    }
   ],
   "source": [
    "print(classification_report(y_test, y_pred))"
   ]
  },
  {
   "cell_type": "code",
   "execution_count": 63,
   "id": "3a182942",
   "metadata": {},
   "outputs": [
    {
     "data": {
      "text/plain": [
       "array([1, 0, 1, 0, 0, 0, 0, 0, 1, 1, 1, 0, 1, 0, 1, 1, 0, 1, 0, 0, 1, 1,\n",
       "       0, 0, 1, 0, 0, 1, 1, 1, 1, 1, 1, 1, 0, 0, 1, 1, 1, 0, 0, 1, 0, 1,\n",
       "       1, 1, 1, 1, 0, 1, 0, 1, 0, 0, 1, 1, 1, 0, 0, 1, 1, 0, 0, 1, 1, 0,\n",
       "       1, 1, 1, 1, 0, 1, 0, 0, 0, 1, 1, 1, 1, 1, 1, 0, 1, 1, 0, 1, 1, 1,\n",
       "       1, 1, 1, 1, 1, 0, 1, 1, 1, 1, 1, 1, 1, 0, 1, 1, 1, 1, 1, 1, 0, 0,\n",
       "       1, 1, 1, 1, 1, 0, 1, 1, 1, 0, 0, 1, 1, 1, 1, 1, 0, 0, 0, 0, 1, 1,\n",
       "       1, 1, 0, 1, 0, 1, 0, 0, 1, 0, 1, 0, 0, 1, 1, 1, 0, 1, 1, 1, 1, 0,\n",
       "       1, 1, 1, 1, 0, 0, 0, 1, 1, 1, 1, 1, 1, 1, 0, 0, 0])"
      ]
     },
     "execution_count": 63,
     "metadata": {},
     "output_type": "execute_result"
    }
   ],
   "source": [
    "y_pred"
   ]
  },
  {
   "cell_type": "code",
   "execution_count": 64,
   "id": "13128adc",
   "metadata": {},
   "outputs": [
    {
     "name": "stdout",
     "output_type": "stream",
     "text": [
      "[[ 58   6]\n",
      " [  3 104]]\n"
     ]
    }
   ],
   "source": [
    "print(confusion_matrix(y_test, y_pred))"
   ]
  },
  {
   "cell_type": "code",
   "execution_count": 65,
   "id": "7e4e4113",
   "metadata": {},
   "outputs": [
    {
     "data": {
      "text/plain": [
       "<AxesSubplot:>"
      ]
     },
     "execution_count": 65,
     "metadata": {},
     "output_type": "execute_result"
    },
    {
     "data": {
      "image/png": "[encoded data removed]",
      "text/plain": [
       "<Figure size 432x288 with 2 Axes>"
      ]
     },
     "metadata": {
      "needs_background": "light"
     },
     "output_type": "display_data"
    }
   ],
   "source": [
    "sns.heatmap(confusion_matrix(y_test, y_pred), cmap = 'viridis', lw = 2, annot = True)"
   ]
  },
  {
   "cell_type": "code",
   "execution_count": 66,
   "id": "c7075423",
   "metadata": {},
   "outputs": [],
   "source": [
    "y_pred_prob = logreg.predict_proba(X_test)"
   ]
  },
  {
   "cell_type": "code",
   "execution_count": null,
   "id": "b5a0ccbf",
   "metadata": {},
   "outputs": [],
   "source": []
  },
  {
   "cell_type": "code",
   "execution_count": 68,
   "id": "db46bc63",
   "metadata": {},
   "outputs": [
    {
     "data": {
      "text/plain": [
       "array([2.77223801e-02, 7.83628295e-01, 4.58075199e-03, 9.99937673e-01,\n",
       "       9.99958606e-01, 1.00000000e+00, 9.91186960e-01, 6.64235071e-01,\n",
       "       1.29682797e-03, 6.45355156e-03, 2.12761450e-03, 1.00000000e+00,\n",
       "       6.18244804e-03, 1.00000000e+00, 9.87427369e-03, 1.17094388e-02,\n",
       "       9.83330548e-01, 3.08322248e-02, 1.00000000e+00, 9.99999974e-01,\n",
       "       1.14506006e-02, 5.92451130e-03, 9.98984025e-01, 7.81038428e-01,\n",
       "       1.03946342e-04, 9.99981479e-01, 1.00000000e+00, 3.68956174e-02,\n",
       "       1.50477090e-02, 9.10437150e-03, 1.94536406e-01, 1.14226879e-01,\n",
       "       1.73373729e-03, 2.90607553e-04, 9.99084592e-01, 1.00000000e+00,\n",
       "       1.99530238e-03, 2.88632776e-02, 1.18980710e-03, 9.99993427e-01,\n",
       "       9.99999998e-01, 2.00476345e-03, 9.99999973e-01, 2.62900565e-03,\n",
       "       8.29877879e-03, 2.30941327e-02, 3.33604572e-02, 1.10830834e-01,\n",
       "       9.99173685e-01, 1.14006804e-01, 9.99999817e-01, 1.36526754e-01,\n",
       "       1.00000000e+00, 9.99999710e-01, 7.50314120e-02, 8.32210533e-03,\n",
       "       5.64008206e-04, 9.99999993e-01, 9.99923935e-01, 1.07196304e-01,\n",
       "       3.00117378e-03, 9.97975881e-01, 9.99991942e-01, 5.98485847e-04,\n",
       "       2.32063909e-03, 6.79042337e-01, 6.05737972e-05, 2.34834492e-03,\n",
       "       1.15968690e-02, 2.09361283e-02, 9.99001681e-01, 4.39381269e-01,\n",
       "       9.97221928e-01, 8.38553410e-01, 9.98757473e-01, 7.53544742e-04,\n",
       "       5.14491653e-04, 4.56834065e-01, 2.44338578e-03, 2.57118122e-02,\n",
       "       2.22483918e-01, 8.66935649e-01, 3.13299166e-03, 5.51932319e-02,\n",
       "       9.93693617e-01, 4.86873832e-02, 5.70541787e-03, 1.90401030e-03,\n",
       "       1.25500317e-03, 5.52242015e-03, 4.91435327e-02, 1.58061931e-03,\n",
       "       2.92731382e-03, 1.00000000e+00, 2.39685041e-02, 1.82974098e-04,\n",
       "       9.99402538e-02, 1.75267952e-02, 1.18585283e-03, 9.96171279e-04,\n",
       "       1.80976964e-05, 5.45815543e-01, 5.02653946e-03, 3.19077156e-01,\n",
       "       3.26965350e-02, 1.83663060e-01, 5.70853607e-04, 9.40137763e-03,\n",
       "       8.23309190e-01, 9.99999912e-01, 1.96361185e-02, 4.70008308e-03,\n",
       "       1.19157882e-01, 5.97933603e-03, 6.13449991e-02, 9.99780284e-01,\n",
       "       4.89389160e-04, 1.10342185e-02, 5.18598849e-02, 9.99990739e-01,\n",
       "       9.99999670e-01, 3.53667629e-02, 3.67350620e-03, 9.75239290e-03,\n",
       "       3.24695361e-04, 3.46971002e-01, 9.12498050e-01, 9.90201086e-01,\n",
       "       9.99999539e-01, 9.99999997e-01, 2.42519510e-04, 4.95369706e-03,\n",
       "       1.93807145e-02, 2.29355748e-03, 8.89883449e-01, 1.34324146e-03,\n",
       "       9.99977678e-01, 1.30903398e-02, 1.00000000e+00, 1.00000000e+00,\n",
       "       1.29807143e-02, 9.99994301e-01, 4.28307543e-03, 8.81607265e-01,\n",
       "       9.94610201e-01, 2.87311191e-03, 6.89408062e-04, 1.60873100e-01,\n",
       "       9.99644203e-01, 8.32399021e-03, 4.40816727e-01, 4.53421112e-03,\n",
       "       4.83374310e-03, 9.99994332e-01, 8.22447863e-02, 1.57606728e-03,\n",
       "       2.02319906e-03, 1.02746552e-01, 9.87544268e-01, 1.00000000e+00,\n",
       "       9.06907173e-01, 1.65070541e-02, 1.08908122e-02, 5.54737188e-03,\n",
       "       1.79224683e-02, 2.53901934e-02, 2.27031925e-03, 1.11410050e-02,\n",
       "       1.00000000e+00, 9.99999965e-01, 9.99999962e-01])"
      ]
     },
     "execution_count": 68,
     "metadata": {},
     "output_type": "execute_result"
    }
   ],
   "source": [
    "y_pred_prob[:,0]    #for malignent class"
   ]
  },
  {
   "cell_type": "code",
   "execution_count": null,
   "id": "2e38bb14",
   "metadata": {},
   "outputs": [],
   "source": []
  },
  {
   "cell_type": "markdown",
   "id": "3d104038",
   "metadata": {},
   "source": [
    "## ROC Curve"
   ]
  },
  {
   "cell_type": "code",
   "execution_count": 69,
   "id": "fb57ebea",
   "metadata": {},
   "outputs": [],
   "source": [
    "from sklearn.metrics import roc_curve"
   ]
  },
  {
   "cell_type": "code",
   "execution_count": 100,
   "id": "0dead56c",
   "metadata": {},
   "outputs": [],
   "source": [
    "y_pred_benign_prob = y_pred_prob[:,1] # for benign class"
   ]
  },
  {
   "cell_type": "code",
   "execution_count": 101,
   "id": "072f39ff",
   "metadata": {},
   "outputs": [],
   "source": [
    "fpr, tpr, thresholds = roc_curve(y_test, y_pred_benign_prob)"
   ]
  },
  {
   "cell_type": "code",
   "execution_count": 102,
   "id": "8efeb704",
   "metadata": {},
   "outputs": [
    {
     "data": {
      "text/plain": [
       "array([1.99998190e+00, 9.99981902e-01, 9.50856467e-01, 9.48140115e-01,\n",
       "       8.80842118e-01, 8.63473246e-01, 7.77516082e-01, 5.60618731e-01,\n",
       "       5.59183273e-01, 4.54184457e-01, 3.35764929e-01, 3.20957663e-01,\n",
       "       2.16371705e-01, 1.64191228e-54])"
      ]
     },
     "execution_count": 102,
     "metadata": {},
     "output_type": "execute_result"
    }
   ],
   "source": [
    "thresholds"
   ]
  },
  {
   "cell_type": "code",
   "execution_count": 98,
   "id": "d23d3157",
   "metadata": {},
   "outputs": [
    {
     "data": {
      "text/plain": [
       "array([0.      , 0.      , 0.      , 0.015625, 0.015625, 0.03125 ,\n",
       "       0.03125 , 0.078125, 0.078125, 0.109375, 0.109375, 0.125   ,\n",
       "       0.125   , 1.      ])"
      ]
     },
     "execution_count": 98,
     "metadata": {},
     "output_type": "execute_result"
    }
   ],
   "source": [
    "fpr"
   ]
  },
  {
   "cell_type": "code",
   "execution_count": 103,
   "id": "aa51534d",
   "metadata": {},
   "outputs": [
    {
     "data": {
      "image/png": "[encoded data removed]",
      "text/plain": [
       "<Figure size 576x504 with 1 Axes>"
      ]
     },
     "metadata": {
      "needs_background": "light"
     },
     "output_type": "display_data"
    }
   ],
   "source": [
    "fig = plt.figure(figsize = (8,7))\n",
    "plt.style.use('seaborn-dark-palette')\n",
    "plt.plot([0,1], [0,1], 'k--')\n",
    "plt.plot(fpr, tpr, lw = 3 , label = 'logistic regression')\n",
    "plt.xlabel('FPR')\n",
    "plt.ylabel('TPR')\n",
    "plt.title('ROC curve')\n",
    "plt.legend()\n",
    "plt.show()"
   ]
  },
  {
   "cell_type": "markdown",
   "id": "76850792",
   "metadata": {},
   "source": [
    "## Area Under Curve (AUC)"
   ]
  },
  {
   "cell_type": "code",
   "execution_count": 109,
   "id": "d2616b6c",
   "metadata": {},
   "outputs": [],
   "source": [
    "from sklearn.metrics import roc_auc_score\n"
   ]
  },
  {
   "cell_type": "code",
   "execution_count": 107,
   "id": "f3e1cd6f",
   "metadata": {},
   "outputs": [
    {
     "name": "stderr",
     "output_type": "stream",
     "text": [
      "E:\\DataScience-Software\\Softs\\Anaconda\\lib\\site-packages\\sklearn\\linear_model\\_logistic.py:763: ConvergenceWarning: lbfgs failed to converge (status=1):\n",
      "STOP: TOTAL NO. of ITERATIONS REACHED LIMIT.\n",
      "\n",
      "Increase the number of iterations (max_iter) or scale the data as shown in:\n",
      "    https://scikit-learn.org/stable/modules/preprocessing.html\n",
      "Please also refer to the documentation for alternative solver options:\n",
      "    https://scikit-learn.org/stable/modules/linear_model.html#logistic-regression\n",
      "  n_iter_i = _check_optimize_result(\n"
     ]
    },
    {
     "data": {
      "text/plain": [
       "LogisticRegression()"
      ]
     },
     "execution_count": 107,
     "metadata": {},
     "output_type": "execute_result"
    }
   ],
   "source": [
    "X_train, X_test, y_train, y_test = train_test_split(X, y, test_size= 0.3, stratify= y, random_state= 21)\n",
    "logreg = LogisticRegression()\n",
    "logreg.fit(X_train, y_train)"
   ]
  },
  {
   "cell_type": "code",
   "execution_count": 108,
   "id": "50b786c0",
   "metadata": {},
   "outputs": [
    {
     "data": {
      "text/plain": [
       "0.9931366822429907"
      ]
     },
     "execution_count": 108,
     "metadata": {},
     "output_type": "execute_result"
    }
   ],
   "source": [
    "y_pred_benign_prob = y_pred_prob[:,1] # for benign class\n",
    "roc_auc_score(y_test, y_pred_benign_prob ) # Area Under Curve"
   ]
  },
  {
   "cell_type": "markdown",
   "id": "95409408",
   "metadata": {},
   "source": [
    "### AUC  with cross validation"
   ]
  },
  {
   "cell_type": "code",
   "execution_count": 110,
   "id": "677fcf4c",
   "metadata": {},
   "outputs": [],
   "source": [
    "from sklearn.model_selection import cross_val_score\n",
    "from sklearn.metrics import roc_auc_score"
   ]
  },
  {
   "cell_type": "code",
   "execution_count": 113,
   "id": "66d880d2",
   "metadata": {},
   "outputs": [
    {
     "name": "stderr",
     "output_type": "stream",
     "text": [
      "E:\\DataScience-Software\\Softs\\Anaconda\\lib\\site-packages\\sklearn\\linear_model\\_logistic.py:763: ConvergenceWarning: lbfgs failed to converge (status=1):\n",
      "STOP: TOTAL NO. of ITERATIONS REACHED LIMIT.\n",
      "\n",
      "Increase the number of iterations (max_iter) or scale the data as shown in:\n",
      "    https://scikit-learn.org/stable/modules/preprocessing.html\n",
      "Please also refer to the documentation for alternative solver options:\n",
      "    https://scikit-learn.org/stable/modules/linear_model.html#logistic-regression\n",
      "  n_iter_i = _check_optimize_result(\n",
      "E:\\DataScience-Software\\Softs\\Anaconda\\lib\\site-packages\\sklearn\\linear_model\\_logistic.py:763: ConvergenceWarning: lbfgs failed to converge (status=1):\n",
      "STOP: TOTAL NO. of ITERATIONS REACHED LIMIT.\n",
      "\n",
      "Increase the number of iterations (max_iter) or scale the data as shown in:\n",
      "    https://scikit-learn.org/stable/modules/preprocessing.html\n",
      "Please also refer to the documentation for alternative solver options:\n",
      "    https://scikit-learn.org/stable/modules/linear_model.html#logistic-regression\n",
      "  n_iter_i = _check_optimize_result(\n",
      "E:\\DataScience-Software\\Softs\\Anaconda\\lib\\site-packages\\sklearn\\linear_model\\_logistic.py:763: ConvergenceWarning: lbfgs failed to converge (status=1):\n",
      "STOP: TOTAL NO. of ITERATIONS REACHED LIMIT.\n",
      "\n",
      "Increase the number of iterations (max_iter) or scale the data as shown in:\n",
      "    https://scikit-learn.org/stable/modules/preprocessing.html\n",
      "Please also refer to the documentation for alternative solver options:\n",
      "    https://scikit-learn.org/stable/modules/linear_model.html#logistic-regression\n",
      "  n_iter_i = _check_optimize_result(\n",
      "E:\\DataScience-Software\\Softs\\Anaconda\\lib\\site-packages\\sklearn\\linear_model\\_logistic.py:763: ConvergenceWarning: lbfgs failed to converge (status=1):\n",
      "STOP: TOTAL NO. of ITERATIONS REACHED LIMIT.\n",
      "\n",
      "Increase the number of iterations (max_iter) or scale the data as shown in:\n",
      "    https://scikit-learn.org/stable/modules/preprocessing.html\n",
      "Please also refer to the documentation for alternative solver options:\n",
      "    https://scikit-learn.org/stable/modules/linear_model.html#logistic-regression\n",
      "  n_iter_i = _check_optimize_result(\n",
      "E:\\DataScience-Software\\Softs\\Anaconda\\lib\\site-packages\\sklearn\\linear_model\\_logistic.py:763: ConvergenceWarning: lbfgs failed to converge (status=1):\n",
      "STOP: TOTAL NO. of ITERATIONS REACHED LIMIT.\n",
      "\n",
      "Increase the number of iterations (max_iter) or scale the data as shown in:\n",
      "    https://scikit-learn.org/stable/modules/preprocessing.html\n",
      "Please also refer to the documentation for alternative solver options:\n",
      "    https://scikit-learn.org/stable/modules/linear_model.html#logistic-regression\n",
      "  n_iter_i = _check_optimize_result(\n"
     ]
    }
   ],
   "source": [
    "logreg = LogisticRegression()\n",
    "cross_val_scores = cross_val_score(logreg, X, y, scoring='roc_auc', cv = 5)\n"
   ]
  },
  {
   "cell_type": "code",
   "execution_count": 115,
   "id": "81662831",
   "metadata": {},
   "outputs": [
    {
     "name": "stdout",
     "output_type": "stream",
     "text": [
      "[0.99344907 0.98231248 0.99570106 0.98280423 0.99564051]\n"
     ]
    }
   ],
   "source": [
    "print(cross_val_scores)"
   ]
  },
  {
   "cell_type": "markdown",
   "id": "29dfc5f7",
   "metadata": {},
   "source": [
    "## Hyperparameter Tuning"
   ]
  },
  {
   "cell_type": "code",
   "execution_count": 116,
   "id": "ef82374b",
   "metadata": {},
   "outputs": [],
   "source": [
    "from sklearn.neighbors import KNeighborsClassifier\n",
    "from sklearn.model_selection import GridSearchCV\n",
    "hparam_grid = {'n_neighbors': np.arange(1,30)}\n",
    "knn = KNeighborsClassifier()\n",
    "knn_gs_cv = GridSearchCV(knn, hparam_grid, cv = 5 )"
   ]
  },
  {
   "cell_type": "code",
   "execution_count": 117,
   "id": "3693398d",
   "metadata": {},
   "outputs": [
    {
     "data": {
      "text/plain": [
       "GridSearchCV(cv=5, estimator=KNeighborsClassifier(),\n",
       "             param_grid={'n_neighbors': array([ 1,  2,  3,  4,  5,  6,  7,  8,  9, 10, 11, 12, 13, 14, 15, 16, 17,\n",
       "       18, 19, 20, 21, 22, 23, 24, 25, 26, 27, 28, 29])})"
      ]
     },
     "execution_count": 117,
     "metadata": {},
     "output_type": "execute_result"
    }
   ],
   "source": [
    "knn_gs_cv.fit(X,y)"
   ]
  },
  {
   "cell_type": "code",
   "execution_count": 118,
   "id": "3af07cd3",
   "metadata": {},
   "outputs": [
    {
     "data": {
      "text/plain": [
       "{'n_neighbors': 13}"
      ]
     },
     "execution_count": 118,
     "metadata": {},
     "output_type": "execute_result"
    }
   ],
   "source": [
    "knn_gs_cv.best_params_"
   ]
  },
  {
   "cell_type": "code",
   "execution_count": 119,
   "id": "426dc5f8",
   "metadata": {},
   "outputs": [
    {
     "data": {
      "text/plain": [
       "0.9332401800962584"
      ]
     },
     "execution_count": 119,
     "metadata": {},
     "output_type": "execute_result"
    }
   ],
   "source": [
    "knn_gs_cv.best_score_"
   ]
  },
  {
   "cell_type": "markdown",
   "id": "9c5f4c13",
   "metadata": {},
   "source": [
    "## Hold-out Set"
   ]
  },
  {
   "cell_type": "markdown",
   "id": "f03d0d23",
   "metadata": {},
   "source": [
    "### Hold-out set in practice II: Regression\n",
    "Remember lasso and ridge regression from the previous chapter? Lasso used the  penalty to regularize, while ridge used the  penalty. There is another type of regularized regression known as the elastic net. In elastic net regularization, the penalty term is a linear combination of the  and  penalties:\n",
    "\n",
    " a * L1 + b * L2 \n",
    " \n",
    " \n",
    "In scikit-learn, this term is represented by the 'l1_ratio' parameter: An 'l1_ratio' of 1 corresponds to an  penalty, and anything lower is a combination of  and .\n",
    "\n",
    "In this exercise, you will GridSearchCV to tune the 'l1_ratio' of an elastic net model trained on the Gapminder data. As in the previous exercise, use a hold-out set to evaluate your model's performance."
   ]
  },
  {
   "cell_type": "code",
   "execution_count": 120,
   "id": "ac2098d3",
   "metadata": {},
   "outputs": [
    {
     "name": "stderr",
     "output_type": "stream",
     "text": [
      "E:\\DataScience-Software\\Softs\\Anaconda\\lib\\site-packages\\sklearn\\linear_model\\_coordinate_descent.py:530: ConvergenceWarning: Objective did not converge. You might want to increase the number of iterations. Duality gap: 10.751229878641453, tolerance: 0.006570220588235293\n",
      "  model = cd_fast.enet_coordinate_descent(\n",
      "E:\\DataScience-Software\\Softs\\Anaconda\\lib\\site-packages\\sklearn\\linear_model\\_coordinate_descent.py:530: ConvergenceWarning: Objective did not converge. You might want to increase the number of iterations. Duality gap: 10.481806337869955, tolerance: 0.00638901098901099\n",
      "  model = cd_fast.enet_coordinate_descent(\n",
      "E:\\DataScience-Software\\Softs\\Anaconda\\lib\\site-packages\\sklearn\\linear_model\\_coordinate_descent.py:530: ConvergenceWarning: Objective did not converge. You might want to increase the number of iterations. Duality gap: 11.296667993445743, tolerance: 0.006527472527472529\n",
      "  model = cd_fast.enet_coordinate_descent(\n",
      "E:\\DataScience-Software\\Softs\\Anaconda\\lib\\site-packages\\sklearn\\linear_model\\_coordinate_descent.py:530: ConvergenceWarning: Objective did not converge. You might want to increase the number of iterations. Duality gap: 10.57330619955012, tolerance: 0.006336996336996337\n",
      "  model = cd_fast.enet_coordinate_descent(\n",
      "E:\\DataScience-Software\\Softs\\Anaconda\\lib\\site-packages\\sklearn\\linear_model\\_coordinate_descent.py:530: ConvergenceWarning: Objective did not converge. You might want to increase the number of iterations. Duality gap: 10.798315299189136, tolerance: 0.006506227106227107\n",
      "  model = cd_fast.enet_coordinate_descent(\n"
     ]
    },
    {
     "name": "stdout",
     "output_type": "stream",
     "text": [
      "Tuned ElasticNet l1 ratio: {'l1_ratio': 0.0}\n",
      "Tuned ElasticNet R squared: 0.6803132060642145\n",
      "Tuned ElasticNet MSE: 0.07281262773545129\n"
     ]
    },
    {
     "name": "stderr",
     "output_type": "stream",
     "text": [
      "E:\\DataScience-Software\\Softs\\Anaconda\\lib\\site-packages\\sklearn\\linear_model\\_coordinate_descent.py:530: ConvergenceWarning: Objective did not converge. You might want to increase the number of iterations. Duality gap: 13.549232339777141, tolerance: 0.008090322580645163\n",
      "  model = cd_fast.enet_coordinate_descent(\n"
     ]
    }
   ],
   "source": [
    "# Import necessary modules\n",
    "from sklearn.linear_model import ElasticNet\n",
    "from sklearn.metrics import mean_squared_error\n",
    "from sklearn.model_selection import GridSearchCV\n",
    "from sklearn.model_selection import train_test_split\n",
    "\n",
    "# The data set must be chosen here:\n",
    "    ### import data set\n",
    "\n",
    "# Create train and test sets\n",
    "X_train, X_test, y_train, y_test = train_test_split(X, y, random_state = 42, test_size = 0.4)\n",
    "\n",
    "# Create the hyperparameter grid\n",
    "l1_space = np.linspace(0, 1, 30)\n",
    "param_grid = {'l1_ratio': l1_space}\n",
    "\n",
    "# Instantiate the ElasticNet regressor: elastic_net\n",
    "elastic_net = ElasticNet()\n",
    "\n",
    "# Setup the GridSearchCV object: gm_cv\n",
    "gm_cv = GridSearchCV(elastic_net, param_grid, cv=5)\n",
    "\n",
    "# Fit it to the training data\n",
    "gm_cv.fit(X_train, y_train)\n",
    "\n",
    "# Predict on the test set and compute metrics\n",
    "y_pred = gm_cv.predict(X_test)\n",
    "r2 = gm_cv.score(X_test, y_test)\n",
    "mse = mean_squared_error(y_test, y_pred)\n",
    "print(\"Tuned ElasticNet l1 ratio: {}\".format(gm_cv.best_params_))\n",
    "print(\"Tuned ElasticNet R squared: {}\".format(r2))\n",
    "print(\"Tuned ElasticNet MSE: {}\".format(mse))"
   ]
  },
  {
   "cell_type": "markdown",
   "id": "7db65a1b",
   "metadata": {},
   "source": [
    "## Preprocessing Data"
   ]
  },
  {
   "cell_type": "code",
   "execution_count": 121,
   "id": "8ea15814",
   "metadata": {},
   "outputs": [],
   "source": [
    "df = pd.read_csv('E:\\Projects\\Data Science Course\\DS-LEarning\\Data-Sets\\gapminder.csv')"
   ]
  },
  {
   "cell_type": "code",
   "execution_count": 122,
   "id": "cefa0875",
   "metadata": {},
   "outputs": [
    {
     "data": {
      "text/html": [
       "<div>\n",
       "<style scoped>\n",
       "    .dataframe tbody tr th:only-of-type {\n",
       "        vertical-align: middle;\n",
       "    }\n",
       "\n",
       "    .dataframe tbody tr th {\n",
       "        vertical-align: top;\n",
       "    }\n",
       "\n",
       "    .dataframe thead th {\n",
       "        text-align: right;\n",
       "    }\n",
       "</style>\n",
       "<table border=\"1\" class=\"dataframe\">\n",
       "  <thead>\n",
       "    <tr style=\"text-align: right;\">\n",
       "      <th></th>\n",
       "      <th>country</th>\n",
       "      <th>incomeperperson</th>\n",
       "      <th>alcconsumption</th>\n",
       "      <th>armedforcesrate</th>\n",
       "      <th>breastcancerper100th</th>\n",
       "      <th>co2emissions</th>\n",
       "      <th>femaleemployrate</th>\n",
       "      <th>hivrate</th>\n",
       "      <th>internetuserate</th>\n",
       "      <th>lifeexpectancy</th>\n",
       "      <th>oilperperson</th>\n",
       "      <th>polityscore</th>\n",
       "      <th>relectricperperson</th>\n",
       "      <th>suicideper100th</th>\n",
       "      <th>employrate</th>\n",
       "      <th>urbanrate</th>\n",
       "    </tr>\n",
       "  </thead>\n",
       "  <tbody>\n",
       "    <tr>\n",
       "      <th>0</th>\n",
       "      <td>Afghanistan</td>\n",
       "      <td></td>\n",
       "      <td>0.03</td>\n",
       "      <td>0.5696534</td>\n",
       "      <td>26.8</td>\n",
       "      <td>75944000</td>\n",
       "      <td>25.60000038</td>\n",
       "      <td></td>\n",
       "      <td>3.654121623</td>\n",
       "      <td>48.673</td>\n",
       "      <td></td>\n",
       "      <td>0</td>\n",
       "      <td></td>\n",
       "      <td>6.6843853</td>\n",
       "      <td>55.70000076</td>\n",
       "      <td>24.04</td>\n",
       "    </tr>\n",
       "    <tr>\n",
       "      <th>1</th>\n",
       "      <td>Albania</td>\n",
       "      <td>1914.996551</td>\n",
       "      <td>7.29</td>\n",
       "      <td>1.0247361</td>\n",
       "      <td>57.4</td>\n",
       "      <td>223747333.3</td>\n",
       "      <td>42.09999847</td>\n",
       "      <td></td>\n",
       "      <td>44.98994696</td>\n",
       "      <td>76.918</td>\n",
       "      <td></td>\n",
       "      <td>9</td>\n",
       "      <td>636.3413834</td>\n",
       "      <td>7.699329853</td>\n",
       "      <td>51.40000153</td>\n",
       "      <td>46.72</td>\n",
       "    </tr>\n",
       "    <tr>\n",
       "      <th>2</th>\n",
       "      <td>Algeria</td>\n",
       "      <td>2231.993335</td>\n",
       "      <td>0.69</td>\n",
       "      <td>2.306817</td>\n",
       "      <td>23.5</td>\n",
       "      <td>2932108667</td>\n",
       "      <td>31.70000076</td>\n",
       "      <td>0.1</td>\n",
       "      <td>12.50007331</td>\n",
       "      <td>73.131</td>\n",
       "      <td>0.420094525</td>\n",
       "      <td>2</td>\n",
       "      <td>590.5098143</td>\n",
       "      <td>4.848769665</td>\n",
       "      <td>50.5</td>\n",
       "      <td>65.22</td>\n",
       "    </tr>\n",
       "    <tr>\n",
       "      <th>3</th>\n",
       "      <td>Andorra</td>\n",
       "      <td>21943.3399</td>\n",
       "      <td>10.17</td>\n",
       "      <td></td>\n",
       "      <td></td>\n",
       "      <td></td>\n",
       "      <td></td>\n",
       "      <td></td>\n",
       "      <td>81</td>\n",
       "      <td></td>\n",
       "      <td></td>\n",
       "      <td></td>\n",
       "      <td></td>\n",
       "      <td>5.362178802</td>\n",
       "      <td></td>\n",
       "      <td>88.92</td>\n",
       "    </tr>\n",
       "    <tr>\n",
       "      <th>4</th>\n",
       "      <td>Angola</td>\n",
       "      <td>1381.004268</td>\n",
       "      <td>5.57</td>\n",
       "      <td>1.4613288</td>\n",
       "      <td>23.1</td>\n",
       "      <td>248358000</td>\n",
       "      <td>69.40000153</td>\n",
       "      <td>2</td>\n",
       "      <td>9.999953883</td>\n",
       "      <td>51.093</td>\n",
       "      <td></td>\n",
       "      <td>-2</td>\n",
       "      <td>172.9992274</td>\n",
       "      <td>14.55467701</td>\n",
       "      <td>75.69999695</td>\n",
       "      <td>56.7</td>\n",
       "    </tr>\n",
       "    <tr>\n",
       "      <th>...</th>\n",
       "      <td>...</td>\n",
       "      <td>...</td>\n",
       "      <td>...</td>\n",
       "      <td>...</td>\n",
       "      <td>...</td>\n",
       "      <td>...</td>\n",
       "      <td>...</td>\n",
       "      <td>...</td>\n",
       "      <td>...</td>\n",
       "      <td>...</td>\n",
       "      <td>...</td>\n",
       "      <td>...</td>\n",
       "      <td>...</td>\n",
       "      <td>...</td>\n",
       "      <td>...</td>\n",
       "      <td>...</td>\n",
       "    </tr>\n",
       "    <tr>\n",
       "      <th>208</th>\n",
       "      <td>Vietnam</td>\n",
       "      <td>722.8075588</td>\n",
       "      <td>3.91</td>\n",
       "      <td>1.0853671</td>\n",
       "      <td>16.2</td>\n",
       "      <td>1425435000</td>\n",
       "      <td>67.59999847</td>\n",
       "      <td>0.4</td>\n",
       "      <td>27.85182156</td>\n",
       "      <td>75.181</td>\n",
       "      <td></td>\n",
       "      <td>-7</td>\n",
       "      <td>302.7256547</td>\n",
       "      <td>11.65332222</td>\n",
       "      <td>71</td>\n",
       "      <td>27.84</td>\n",
       "    </tr>\n",
       "    <tr>\n",
       "      <th>209</th>\n",
       "      <td>West Bank and Gaza</td>\n",
       "      <td></td>\n",
       "      <td></td>\n",
       "      <td>5.9360854</td>\n",
       "      <td></td>\n",
       "      <td>14241333.33</td>\n",
       "      <td>11.30000019</td>\n",
       "      <td></td>\n",
       "      <td>36.42277179</td>\n",
       "      <td>72.832</td>\n",
       "      <td></td>\n",
       "      <td></td>\n",
       "      <td></td>\n",
       "      <td></td>\n",
       "      <td>32</td>\n",
       "      <td>71.9</td>\n",
       "    </tr>\n",
       "    <tr>\n",
       "      <th>210</th>\n",
       "      <td>Yemen, Rep.</td>\n",
       "      <td>610.3573673</td>\n",
       "      <td>0.2</td>\n",
       "      <td>2.3162346</td>\n",
       "      <td>35.1</td>\n",
       "      <td>234864666.7</td>\n",
       "      <td>20.29999924</td>\n",
       "      <td></td>\n",
       "      <td>12.34975046</td>\n",
       "      <td>65.493</td>\n",
       "      <td></td>\n",
       "      <td>-2</td>\n",
       "      <td>130.0578314</td>\n",
       "      <td>6.265789032</td>\n",
       "      <td>39</td>\n",
       "      <td>30.64</td>\n",
       "    </tr>\n",
       "    <tr>\n",
       "      <th>211</th>\n",
       "      <td>Zambia</td>\n",
       "      <td>432.226337</td>\n",
       "      <td>3.56</td>\n",
       "      <td>0.3413352</td>\n",
       "      <td>13</td>\n",
       "      <td>132025666.7</td>\n",
       "      <td>53.5</td>\n",
       "      <td>13.5</td>\n",
       "      <td>10.12498646</td>\n",
       "      <td>49.025</td>\n",
       "      <td></td>\n",
       "      <td>7</td>\n",
       "      <td>168.6230305</td>\n",
       "      <td>12.01903629</td>\n",
       "      <td>61</td>\n",
       "      <td>35.42</td>\n",
       "    </tr>\n",
       "    <tr>\n",
       "      <th>212</th>\n",
       "      <td>Zimbabwe</td>\n",
       "      <td>320.7718899</td>\n",
       "      <td>4.96</td>\n",
       "      <td>1.0327854</td>\n",
       "      <td>19</td>\n",
       "      <td>590219666.7</td>\n",
       "      <td>58.09999847</td>\n",
       "      <td>14.3</td>\n",
       "      <td>11.50041532</td>\n",
       "      <td>51.384</td>\n",
       "      <td></td>\n",
       "      <td>1</td>\n",
       "      <td>297.8832004</td>\n",
       "      <td>13.90526676</td>\n",
       "      <td>66.80000305</td>\n",
       "      <td>37.34</td>\n",
       "    </tr>\n",
       "  </tbody>\n",
       "</table>\n",
       "<p>213 rows × 16 columns</p>\n",
       "</div>"
      ],
      "text/plain": [
       "                country incomeperperson alcconsumption armedforcesrate  \\\n",
       "0           Afghanistan                           0.03       0.5696534   \n",
       "1               Albania     1914.996551           7.29       1.0247361   \n",
       "2               Algeria     2231.993335           0.69        2.306817   \n",
       "3               Andorra      21943.3399          10.17                   \n",
       "4                Angola     1381.004268           5.57       1.4613288   \n",
       "..                  ...             ...            ...             ...   \n",
       "208             Vietnam     722.8075588           3.91       1.0853671   \n",
       "209  West Bank and Gaza                                      5.9360854   \n",
       "210         Yemen, Rep.     610.3573673            0.2       2.3162346   \n",
       "211              Zambia      432.226337           3.56       0.3413352   \n",
       "212            Zimbabwe     320.7718899           4.96       1.0327854   \n",
       "\n",
       "    breastcancerper100th co2emissions femaleemployrate hivrate  \\\n",
       "0                   26.8     75944000      25.60000038           \n",
       "1                   57.4  223747333.3      42.09999847           \n",
       "2                   23.5   2932108667      31.70000076     0.1   \n",
       "3                                                                \n",
       "4                   23.1    248358000      69.40000153       2   \n",
       "..                   ...          ...              ...     ...   \n",
       "208                 16.2   1425435000      67.59999847     0.4   \n",
       "209                       14241333.33      11.30000019           \n",
       "210                 35.1  234864666.7      20.29999924           \n",
       "211                   13  132025666.7             53.5    13.5   \n",
       "212                   19  590219666.7      58.09999847    14.3   \n",
       "\n",
       "    internetuserate lifeexpectancy oilperperson polityscore  \\\n",
       "0       3.654121623         48.673                        0   \n",
       "1       44.98994696         76.918                        9   \n",
       "2       12.50007331         73.131  0.420094525           2   \n",
       "3                81                                           \n",
       "4       9.999953883         51.093                       -2   \n",
       "..              ...            ...          ...         ...   \n",
       "208     27.85182156         75.181                       -7   \n",
       "209     36.42277179         72.832                            \n",
       "210     12.34975046         65.493                       -2   \n",
       "211     10.12498646         49.025                        7   \n",
       "212     11.50041532         51.384                        1   \n",
       "\n",
       "    relectricperperson suicideper100th   employrate urbanrate  \n",
       "0                            6.6843853  55.70000076     24.04  \n",
       "1          636.3413834     7.699329853  51.40000153     46.72  \n",
       "2          590.5098143     4.848769665         50.5     65.22  \n",
       "3                          5.362178802                  88.92  \n",
       "4          172.9992274     14.55467701  75.69999695      56.7  \n",
       "..                 ...             ...          ...       ...  \n",
       "208        302.7256547     11.65332222           71     27.84  \n",
       "209                                              32      71.9  \n",
       "210        130.0578314     6.265789032           39     30.64  \n",
       "211        168.6230305     12.01903629           61     35.42  \n",
       "212        297.8832004     13.90526676  66.80000305     37.34  \n",
       "\n",
       "[213 rows x 16 columns]"
      ]
     },
     "execution_count": 122,
     "metadata": {},
     "output_type": "execute_result"
    }
   ],
   "source": [
    "df"
   ]
  },
  {
   "cell_type": "code",
   "execution_count": 123,
   "id": "282b5a62",
   "metadata": {},
   "outputs": [],
   "source": [
    "df_country = pd.get_dummies(df)"
   ]
  },
  {
   "cell_type": "code",
   "execution_count": 124,
   "id": "5212fca2",
   "metadata": {},
   "outputs": [
    {
     "data": {
      "text/html": [
       "<div>\n",
       "<style scoped>\n",
       "    .dataframe tbody tr th:only-of-type {\n",
       "        vertical-align: middle;\n",
       "    }\n",
       "\n",
       "    .dataframe tbody tr th {\n",
       "        vertical-align: top;\n",
       "    }\n",
       "\n",
       "    .dataframe thead th {\n",
       "        text-align: right;\n",
       "    }\n",
       "</style>\n",
       "<table border=\"1\" class=\"dataframe\">\n",
       "  <thead>\n",
       "    <tr style=\"text-align: right;\">\n",
       "      <th></th>\n",
       "      <th>country_Afghanistan</th>\n",
       "      <th>country_Albania</th>\n",
       "      <th>country_Algeria</th>\n",
       "      <th>country_Andorra</th>\n",
       "      <th>country_Angola</th>\n",
       "      <th>country_Antigua and Barbuda</th>\n",
       "      <th>country_Argentina</th>\n",
       "      <th>country_Armenia</th>\n",
       "      <th>country_Aruba</th>\n",
       "      <th>country_Australia</th>\n",
       "      <th>...</th>\n",
       "      <th>urbanrate_92.3</th>\n",
       "      <th>urbanrate_92.68</th>\n",
       "      <th>urbanrate_93.16</th>\n",
       "      <th>urbanrate_93.32</th>\n",
       "      <th>urbanrate_94.22</th>\n",
       "      <th>urbanrate_94.26</th>\n",
       "      <th>urbanrate_95.64</th>\n",
       "      <th>urbanrate_97.36</th>\n",
       "      <th>urbanrate_98.32</th>\n",
       "      <th>urbanrate_98.36</th>\n",
       "    </tr>\n",
       "  </thead>\n",
       "  <tbody>\n",
       "    <tr>\n",
       "      <th>0</th>\n",
       "      <td>1</td>\n",
       "      <td>0</td>\n",
       "      <td>0</td>\n",
       "      <td>0</td>\n",
       "      <td>0</td>\n",
       "      <td>0</td>\n",
       "      <td>0</td>\n",
       "      <td>0</td>\n",
       "      <td>0</td>\n",
       "      <td>0</td>\n",
       "      <td>...</td>\n",
       "      <td>0</td>\n",
       "      <td>0</td>\n",
       "      <td>0</td>\n",
       "      <td>0</td>\n",
       "      <td>0</td>\n",
       "      <td>0</td>\n",
       "      <td>0</td>\n",
       "      <td>0</td>\n",
       "      <td>0</td>\n",
       "      <td>0</td>\n",
       "    </tr>\n",
       "    <tr>\n",
       "      <th>1</th>\n",
       "      <td>0</td>\n",
       "      <td>1</td>\n",
       "      <td>0</td>\n",
       "      <td>0</td>\n",
       "      <td>0</td>\n",
       "      <td>0</td>\n",
       "      <td>0</td>\n",
       "      <td>0</td>\n",
       "      <td>0</td>\n",
       "      <td>0</td>\n",
       "      <td>...</td>\n",
       "      <td>0</td>\n",
       "      <td>0</td>\n",
       "      <td>0</td>\n",
       "      <td>0</td>\n",
       "      <td>0</td>\n",
       "      <td>0</td>\n",
       "      <td>0</td>\n",
       "      <td>0</td>\n",
       "      <td>0</td>\n",
       "      <td>0</td>\n",
       "    </tr>\n",
       "    <tr>\n",
       "      <th>2</th>\n",
       "      <td>0</td>\n",
       "      <td>0</td>\n",
       "      <td>1</td>\n",
       "      <td>0</td>\n",
       "      <td>0</td>\n",
       "      <td>0</td>\n",
       "      <td>0</td>\n",
       "      <td>0</td>\n",
       "      <td>0</td>\n",
       "      <td>0</td>\n",
       "      <td>...</td>\n",
       "      <td>0</td>\n",
       "      <td>0</td>\n",
       "      <td>0</td>\n",
       "      <td>0</td>\n",
       "      <td>0</td>\n",
       "      <td>0</td>\n",
       "      <td>0</td>\n",
       "      <td>0</td>\n",
       "      <td>0</td>\n",
       "      <td>0</td>\n",
       "    </tr>\n",
       "    <tr>\n",
       "      <th>3</th>\n",
       "      <td>0</td>\n",
       "      <td>0</td>\n",
       "      <td>0</td>\n",
       "      <td>1</td>\n",
       "      <td>0</td>\n",
       "      <td>0</td>\n",
       "      <td>0</td>\n",
       "      <td>0</td>\n",
       "      <td>0</td>\n",
       "      <td>0</td>\n",
       "      <td>...</td>\n",
       "      <td>0</td>\n",
       "      <td>0</td>\n",
       "      <td>0</td>\n",
       "      <td>0</td>\n",
       "      <td>0</td>\n",
       "      <td>0</td>\n",
       "      <td>0</td>\n",
       "      <td>0</td>\n",
       "      <td>0</td>\n",
       "      <td>0</td>\n",
       "    </tr>\n",
       "    <tr>\n",
       "      <th>4</th>\n",
       "      <td>0</td>\n",
       "      <td>0</td>\n",
       "      <td>0</td>\n",
       "      <td>0</td>\n",
       "      <td>1</td>\n",
       "      <td>0</td>\n",
       "      <td>0</td>\n",
       "      <td>0</td>\n",
       "      <td>0</td>\n",
       "      <td>0</td>\n",
       "      <td>...</td>\n",
       "      <td>0</td>\n",
       "      <td>0</td>\n",
       "      <td>0</td>\n",
       "      <td>0</td>\n",
       "      <td>0</td>\n",
       "      <td>0</td>\n",
       "      <td>0</td>\n",
       "      <td>0</td>\n",
       "      <td>0</td>\n",
       "      <td>0</td>\n",
       "    </tr>\n",
       "  </tbody>\n",
       "</table>\n",
       "<p>5 rows × 2418 columns</p>\n",
       "</div>"
      ],
      "text/plain": [
       "   country_Afghanistan  country_Albania  country_Algeria  country_Andorra  \\\n",
       "0                    1                0                0                0   \n",
       "1                    0                1                0                0   \n",
       "2                    0                0                1                0   \n",
       "3                    0                0                0                1   \n",
       "4                    0                0                0                0   \n",
       "\n",
       "   country_Angola  country_Antigua and Barbuda  country_Argentina  \\\n",
       "0               0                            0                  0   \n",
       "1               0                            0                  0   \n",
       "2               0                            0                  0   \n",
       "3               0                            0                  0   \n",
       "4               1                            0                  0   \n",
       "\n",
       "   country_Armenia  country_Aruba  country_Australia  ...  urbanrate_92.3  \\\n",
       "0                0              0                  0  ...               0   \n",
       "1                0              0                  0  ...               0   \n",
       "2                0              0                  0  ...               0   \n",
       "3                0              0                  0  ...               0   \n",
       "4                0              0                  0  ...               0   \n",
       "\n",
       "   urbanrate_92.68  urbanrate_93.16  urbanrate_93.32  urbanrate_94.22  \\\n",
       "0                0                0                0                0   \n",
       "1                0                0                0                0   \n",
       "2                0                0                0                0   \n",
       "3                0                0                0                0   \n",
       "4                0                0                0                0   \n",
       "\n",
       "   urbanrate_94.26  urbanrate_95.64  urbanrate_97.36  urbanrate_98.32  \\\n",
       "0                0                0                0                0   \n",
       "1                0                0                0                0   \n",
       "2                0                0                0                0   \n",
       "3                0                0                0                0   \n",
       "4                0                0                0                0   \n",
       "\n",
       "   urbanrate_98.36  \n",
       "0                0  \n",
       "1                0  \n",
       "2                0  \n",
       "3                0  \n",
       "4                0  \n",
       "\n",
       "[5 rows x 2418 columns]"
      ]
     },
     "execution_count": 124,
     "metadata": {},
     "output_type": "execute_result"
    }
   ],
   "source": [
    "df_country.head()"
   ]
  },
  {
   "cell_type": "code",
   "execution_count": 125,
   "id": "6fd862a1",
   "metadata": {},
   "outputs": [
    {
     "name": "stdout",
     "output_type": "stream",
     "text": [
      "<class 'pandas.core.frame.DataFrame'>\n",
      "RangeIndex: 213 entries, 0 to 212\n",
      "Data columns (total 16 columns):\n",
      " #   Column                Non-Null Count  Dtype \n",
      "---  ------                --------------  ----- \n",
      " 0   country               213 non-null    object\n",
      " 1   incomeperperson       213 non-null    object\n",
      " 2   alcconsumption        213 non-null    object\n",
      " 3   armedforcesrate       213 non-null    object\n",
      " 4   breastcancerper100th  213 non-null    object\n",
      " 5   co2emissions          213 non-null    object\n",
      " 6   femaleemployrate      213 non-null    object\n",
      " 7   hivrate               213 non-null    object\n",
      " 8   internetuserate       213 non-null    object\n",
      " 9   lifeexpectancy        213 non-null    object\n",
      " 10  oilperperson          213 non-null    object\n",
      " 11  polityscore           213 non-null    object\n",
      " 12  relectricperperson    213 non-null    object\n",
      " 13  suicideper100th       213 non-null    object\n",
      " 14  employrate            213 non-null    object\n",
      " 15  urbanrate             213 non-null    object\n",
      "dtypes: object(16)\n",
      "memory usage: 26.8+ KB\n"
     ]
    }
   ],
   "source": [
    "df.info()"
   ]
  },
  {
   "cell_type": "markdown",
   "id": "85401cf6",
   "metadata": {},
   "source": [
    "## Dealing with missing values with Scikit-learn"
   ]
  },
  {
   "cell_type": "code",
   "execution_count": null,
   "id": "8e4ecb25",
   "metadata": {},
   "outputs": [],
   "source": []
  },
  {
   "cell_type": "code",
   "execution_count": null,
   "id": "8bd587ab",
   "metadata": {},
   "outputs": [],
   "source": []
  },
  {
   "cell_type": "code",
   "execution_count": null,
   "id": "34cedf44",
   "metadata": {},
   "outputs": [],
   "source": []
  },
  {
   "cell_type": "markdown",
   "id": "157c610b",
   "metadata": {},
   "source": [
    "## Imputing missing data in a ML Pipeline I\n",
    "As you've come to appreciate, there are many steps to building a model, from creating training and test sets, to fitting a classifier or regressor, to tuning its parameters, to evaluating its performance on new data. Imputation can be seen as the first step of this machine learning process, the entirety of which can be viewed within the context of a pipeline. Scikit-learn provides a pipeline constructor that allows you to piece together these steps into one process and thereby simplify your workflow.\n",
    "\n",
    "You'll now practice setting up a pipeline with two steps: the imputation step, followed by the instantiation of a classifier. You've seen three classifiers in this course so far: k-NN, logistic regression, and the decision tree. You will now be introduced to a fourth one - the Support Vector Machine, or SVM. For now, do not worry about how it works under the hood. It works exactly as you would expect of the scikit-learn estimators that you have worked with previously, in that it has the same .fit() and .predict() methods as before."
   ]
  },
  {
   "cell_type": "code",
   "execution_count": null,
   "id": "81c4cc75",
   "metadata": {},
   "outputs": [],
   "source": [
    "# Import the Imputer module\n",
    "from sklearn.preprocessing import Imputer\n",
    "from sklearn.svm import SVC\n",
    "from sklearn.pipeline import Pipeline\n",
    "\n",
    "# Setup the Imputation transformer: imp\n",
    "imp = Imputer(missing_values='NaN', strategy='most_frequent', axis = 0)\n",
    "\n",
    "# Instantiate the SVC classifier: clf\n",
    "clf = SVC()\n",
    "\n",
    "# Setup the pipeline with the required steps: steps\n",
    "steps = [('imputation', imp),\n",
    "        ('SVM', clf)]\n",
    "\n",
    "# Create the pipeline: pipeline\n",
    "pipeline = Pipeline(steps)\n",
    "\n",
    "# Create training and test sets\n",
    "X_train, X_test, y_train, y_test = train_test_split(X,y, test_size = 0.3, random_state = 42)\n",
    "\n",
    "# Fit the pipeline to the train set\n",
    "pipeline.fit(X_train, y_train)\n",
    "\n",
    "# Predict the labels of the test set\n",
    "y_pred = pipeline.predict(X_test)\n",
    "\n",
    "# Compute metrics\n",
    "print(classification_report(y_test, y_pred))"
   ]
  },
  {
   "cell_type": "markdown",
   "id": "f6567c78",
   "metadata": {},
   "source": [
    "## Scaling and Centering"
   ]
  },
  {
   "cell_type": "markdown",
   "id": "b2ccd329",
   "metadata": {},
   "source": [
    "#### Wine data set"
   ]
  },
  {
   "cell_type": "code",
   "execution_count": 126,
   "id": "b0812993",
   "metadata": {},
   "outputs": [],
   "source": [
    "wine = datasets.load_wine()"
   ]
  },
  {
   "cell_type": "code",
   "execution_count": 127,
   "id": "4de22efa",
   "metadata": {},
   "outputs": [
    {
     "data": {
      "text/plain": [
       "dict_keys(['data', 'target', 'frame', 'target_names', 'DESCR', 'feature_names'])"
      ]
     },
     "execution_count": 127,
     "metadata": {},
     "output_type": "execute_result"
    }
   ],
   "source": [
    "wine.keys()"
   ]
  },
  {
   "cell_type": "code",
   "execution_count": 128,
   "id": "2cb9f356",
   "metadata": {},
   "outputs": [
    {
     "data": {
      "text/plain": [
       "array(['class_0', 'class_1', 'class_2'], dtype='<U7')"
      ]
     },
     "execution_count": 128,
     "metadata": {},
     "output_type": "execute_result"
    }
   ],
   "source": [
    "wine.target_names"
   ]
  },
  {
   "cell_type": "code",
   "execution_count": 130,
   "id": "643fe63d",
   "metadata": {},
   "outputs": [
    {
     "data": {
      "text/plain": [
       "['alcohol',\n",
       " 'malic_acid',\n",
       " 'ash',\n",
       " 'alcalinity_of_ash',\n",
       " 'magnesium',\n",
       " 'total_phenols',\n",
       " 'flavanoids',\n",
       " 'nonflavanoid_phenols',\n",
       " 'proanthocyanins',\n",
       " 'color_intensity',\n",
       " 'hue',\n",
       " 'od280/od315_of_diluted_wines',\n",
       " 'proline']"
      ]
     },
     "execution_count": 130,
     "metadata": {},
     "output_type": "execute_result"
    }
   ],
   "source": [
    "wine.feature_names"
   ]
  },
  {
   "cell_type": "code",
   "execution_count": 133,
   "id": "408a9400",
   "metadata": {},
   "outputs": [
    {
     "data": {
      "text/plain": [
       "array([[1.423e+01, 1.710e+00, 2.430e+00, ..., 1.040e+00, 3.920e+00,\n",
       "        1.065e+03],\n",
       "       [1.320e+01, 1.780e+00, 2.140e+00, ..., 1.050e+00, 3.400e+00,\n",
       "        1.050e+03],\n",
       "       [1.316e+01, 2.360e+00, 2.670e+00, ..., 1.030e+00, 3.170e+00,\n",
       "        1.185e+03],\n",
       "       ...,\n",
       "       [1.327e+01, 4.280e+00, 2.260e+00, ..., 5.900e-01, 1.560e+00,\n",
       "        8.350e+02],\n",
       "       [1.317e+01, 2.590e+00, 2.370e+00, ..., 6.000e-01, 1.620e+00,\n",
       "        8.400e+02],\n",
       "       [1.413e+01, 4.100e+00, 2.740e+00, ..., 6.100e-01, 1.600e+00,\n",
       "        5.600e+02]])"
      ]
     },
     "execution_count": 133,
     "metadata": {},
     "output_type": "execute_result"
    }
   ],
   "source": [
    "wine.data"
   ]
  },
  {
   "cell_type": "markdown",
   "id": "7c194e4f",
   "metadata": {},
   "source": [
    "### Scaling features"
   ]
  },
  {
   "cell_type": "code",
   "execution_count": 134,
   "id": "17b7fa45",
   "metadata": {},
   "outputs": [],
   "source": [
    "from sklearn.preprocessing import scale"
   ]
  },
  {
   "cell_type": "code",
   "execution_count": 135,
   "id": "db6ba96c",
   "metadata": {},
   "outputs": [],
   "source": [
    "X = wine.data\n",
    "y = wine.target"
   ]
  },
  {
   "cell_type": "code",
   "execution_count": 137,
   "id": "792c2aa8",
   "metadata": {},
   "outputs": [],
   "source": [
    "X_scaled = scale(X)"
   ]
  },
  {
   "cell_type": "code",
   "execution_count": 138,
   "id": "ef4536c0",
   "metadata": {},
   "outputs": [
    {
     "data": {
      "text/plain": [
       "array([[ 1.51861254, -0.5622498 ,  0.23205254, ...,  0.36217728,\n",
       "         1.84791957,  1.01300893],\n",
       "       [ 0.24628963, -0.49941338, -0.82799632, ...,  0.40605066,\n",
       "         1.1134493 ,  0.96524152],\n",
       "       [ 0.19687903,  0.02123125,  1.10933436, ...,  0.31830389,\n",
       "         0.78858745,  1.39514818],\n",
       "       ...,\n",
       "       [ 0.33275817,  1.74474449, -0.38935541, ..., -1.61212515,\n",
       "        -1.48544548,  0.28057537],\n",
       "       [ 0.20923168,  0.22769377,  0.01273209, ..., -1.56825176,\n",
       "        -1.40069891,  0.29649784],\n",
       "       [ 1.39508604,  1.58316512,  1.36520822, ..., -1.52437837,\n",
       "        -1.42894777, -0.59516041]])"
      ]
     },
     "execution_count": 138,
     "metadata": {},
     "output_type": "execute_result"
    }
   ],
   "source": [
    "X_scaled"
   ]
  },
  {
   "cell_type": "code",
   "execution_count": 139,
   "id": "4047b305",
   "metadata": {},
   "outputs": [
    {
     "data": {
      "text/plain": [
       "array([[1.423e+01, 1.710e+00, 2.430e+00, ..., 1.040e+00, 3.920e+00,\n",
       "        1.065e+03],\n",
       "       [1.320e+01, 1.780e+00, 2.140e+00, ..., 1.050e+00, 3.400e+00,\n",
       "        1.050e+03],\n",
       "       [1.316e+01, 2.360e+00, 2.670e+00, ..., 1.030e+00, 3.170e+00,\n",
       "        1.185e+03],\n",
       "       ...,\n",
       "       [1.327e+01, 4.280e+00, 2.260e+00, ..., 5.900e-01, 1.560e+00,\n",
       "        8.350e+02],\n",
       "       [1.317e+01, 2.590e+00, 2.370e+00, ..., 6.000e-01, 1.620e+00,\n",
       "        8.400e+02],\n",
       "       [1.413e+01, 4.100e+00, 2.740e+00, ..., 6.100e-01, 1.600e+00,\n",
       "        5.600e+02]])"
      ]
     },
     "execution_count": 139,
     "metadata": {},
     "output_type": "execute_result"
    }
   ],
   "source": []
  },
  {
   "cell_type": "code",
   "execution_count": 140,
   "id": "81909208",
   "metadata": {},
   "outputs": [
    {
     "data": {
      "text/plain": [
       "(69.13366292091617, 4.66735072755122e-16)"
      ]
     },
     "execution_count": 140,
     "metadata": {},
     "output_type": "execute_result"
    }
   ],
   "source": [
    "np.mean(X), np.mean(X_scaled)"
   ]
  },
  {
   "cell_type": "code",
   "execution_count": 141,
   "id": "f93f08c6",
   "metadata": {},
   "outputs": [
    {
     "data": {
      "text/plain": [
       "(215.74620420485243, 1.0)"
      ]
     },
     "execution_count": 141,
     "metadata": {},
     "output_type": "execute_result"
    }
   ],
   "source": [
    "np.std(X), np.std(X_scaled)"
   ]
  },
  {
   "cell_type": "markdown",
   "id": "75b80153",
   "metadata": {},
   "source": [
    "### Creating Piplines with Scaler"
   ]
  },
  {
   "cell_type": "code",
   "execution_count": 154,
   "id": "9c99d6f9",
   "metadata": {},
   "outputs": [],
   "source": [
    "from sklearn.preprocessing import StandardScaler  ## notice for pipline we use StandardScaler\n",
    "from sklearn.pipeline import Pipeline\n",
    "from sklearn.metrics import accuracy_score"
   ]
  },
  {
   "cell_type": "code",
   "execution_count": 150,
   "id": "2465555c",
   "metadata": {},
   "outputs": [],
   "source": [
    "steps = [('scaler',StandardScaler()),('knn', KNeighborsClassifier())]\n",
    "pipline = Pipeline(steps)\n",
    "\n",
    "# creating au unscaled knn classifier\n",
    "knn_unscaled = KNeighborsClassifier()"
   ]
  },
  {
   "cell_type": "code",
   "execution_count": 149,
   "id": "37a70b8e",
   "metadata": {},
   "outputs": [],
   "source": [
    "# Create training and hold-out sets\n",
    "X_train, X_test, y_train, y_test = train_test_split(X,y, test_size = 0.2, random_state = 21)\n"
   ]
  },
  {
   "cell_type": "code",
   "execution_count": 151,
   "id": "64533b50",
   "metadata": {},
   "outputs": [
    {
     "data": {
      "text/plain": [
       "KNeighborsClassifier()"
      ]
     },
     "execution_count": 151,
     "metadata": {},
     "output_type": "execute_result"
    }
   ],
   "source": [
    "knn_scaled = pipline.fit(X_train, y_train)\n",
    "knn_unscaled.fit(X_train, y_train)"
   ]
  },
  {
   "cell_type": "markdown",
   "id": "a402cd0e",
   "metadata": {},
   "source": [
    "#### Comparison between scaled and unscaled classifiers"
   ]
  },
  {
   "cell_type": "code",
   "execution_count": 153,
   "id": "c1d2744e",
   "metadata": {},
   "outputs": [],
   "source": [
    "y_pred_scaled = knn_scaled.predict(X_test)\n",
    "y_pred_unscaled = knn_unscaled.predict(X_test)"
   ]
  },
  {
   "cell_type": "code",
   "execution_count": 155,
   "id": "904b6f66",
   "metadata": {},
   "outputs": [
    {
     "data": {
      "text/plain": [
       "0.9722222222222222"
      ]
     },
     "execution_count": 155,
     "metadata": {},
     "output_type": "execute_result"
    }
   ],
   "source": [
    "accuracy_score(y_test, y_pred_scaled)"
   ]
  },
  {
   "cell_type": "code",
   "execution_count": 156,
   "id": "fb214caf",
   "metadata": {},
   "outputs": [
    {
     "data": {
      "text/plain": [
       "0.6666666666666666"
      ]
     },
     "execution_count": 156,
     "metadata": {},
     "output_type": "execute_result"
    }
   ],
   "source": [
    "accuracy_score(y_test, y_pred_unscaled)"
   ]
  },
  {
   "cell_type": "markdown",
   "id": "f2cfb87d",
   "metadata": {},
   "source": [
    "### CV and Scaling in a pipeline"
   ]
  },
  {
   "cell_type": "code",
   "execution_count": 157,
   "id": "0b99b656",
   "metadata": {},
   "outputs": [],
   "source": [
    "steps = [('scaler', StandardScaler()),('knn', KNeighborsClassifier())]\n",
    "pipline = Pipeline(steps)"
   ]
  },
  {
   "cell_type": "code",
   "execution_count": 163,
   "id": "b81f104c",
   "metadata": {},
   "outputs": [],
   "source": [
    "parameters = {'knn__n_neighbors': np.arange(1,30)}"
   ]
  },
  {
   "cell_type": "code",
   "execution_count": 164,
   "id": "c1965d8c",
   "metadata": {},
   "outputs": [],
   "source": [
    "# Create training and hold-out sets\n",
    "X_train, X_test, y_train, y_test = train_test_split(X,y, test_size = 0.2, random_state = 21)\n"
   ]
  },
  {
   "cell_type": "code",
   "execution_count": 165,
   "id": "9ac6a7cd",
   "metadata": {},
   "outputs": [],
   "source": [
    "# GridSearch with CV\n",
    "GSCV  = GridSearchCV(pipline, parameters, cv = 5 )"
   ]
  },
  {
   "cell_type": "code",
   "execution_count": 166,
   "id": "ed98fdad",
   "metadata": {},
   "outputs": [
    {
     "data": {
      "text/plain": [
       "GridSearchCV(cv=5,\n",
       "             estimator=Pipeline(steps=[('scaler', StandardScaler()),\n",
       "                                       ('knn', KNeighborsClassifier())]),\n",
       "             param_grid={'knn__n_neighbors': array([ 1,  2,  3,  4,  5,  6,  7,  8,  9, 10, 11, 12, 13, 14, 15, 16, 17,\n",
       "       18, 19, 20, 21, 22, 23, 24, 25, 26, 27, 28, 29])})"
      ]
     },
     "execution_count": 166,
     "metadata": {},
     "output_type": "execute_result"
    }
   ],
   "source": [
    "GSCV.fit(X_train, y_train)"
   ]
  },
  {
   "cell_type": "code",
   "execution_count": 167,
   "id": "6439eeb7",
   "metadata": {},
   "outputs": [
    {
     "data": {
      "text/plain": [
       "{'knn__n_neighbors': 16}"
      ]
     },
     "execution_count": 167,
     "metadata": {},
     "output_type": "execute_result"
    }
   ],
   "source": [
    "GSCV.fit(X_train, y_train).best_params_"
   ]
  },
  {
   "cell_type": "code",
   "execution_count": 168,
   "id": "cfb1985e",
   "metadata": {},
   "outputs": [
    {
     "data": {
      "text/plain": [
       "0.9793103448275862"
      ]
     },
     "execution_count": 168,
     "metadata": {},
     "output_type": "execute_result"
    }
   ],
   "source": [
    "GSCV.fit(X_train, y_train).best_score_"
   ]
  },
  {
   "cell_type": "code",
   "execution_count": 171,
   "id": "5c5cbf21",
   "metadata": {},
   "outputs": [
    {
     "data": {
      "text/plain": [
       "(142,)"
      ]
     },
     "execution_count": 171,
     "metadata": {},
     "output_type": "execute_result"
    }
   ],
   "source": []
  },
  {
   "cell_type": "code",
   "execution_count": 174,
   "id": "0f181f3b",
   "metadata": {},
   "outputs": [],
   "source": [
    "y_pred = GSCV.predict(X_test)"
   ]
  },
  {
   "cell_type": "code",
   "execution_count": 175,
   "id": "542d0528",
   "metadata": {},
   "outputs": [
    {
     "data": {
      "text/plain": [
       "0.9722222222222222"
      ]
     },
     "execution_count": 175,
     "metadata": {},
     "output_type": "execute_result"
    }
   ],
   "source": [
    "accuracy_score(y_test, y_pred)"
   ]
  },
  {
   "cell_type": "code",
   "execution_count": 177,
   "id": "5fc63dc9",
   "metadata": {},
   "outputs": [
    {
     "name": "stdout",
     "output_type": "stream",
     "text": [
      "              precision    recall  f1-score   support\n",
      "\n",
      "           0       1.00      1.00      1.00        15\n",
      "           1       1.00      0.90      0.95        10\n",
      "           2       0.92      1.00      0.96        11\n",
      "\n",
      "    accuracy                           0.97        36\n",
      "   macro avg       0.97      0.97      0.97        36\n",
      "weighted avg       0.97      0.97      0.97        36\n",
      "\n"
     ]
    }
   ],
   "source": [
    "print(classification_report(y_test, y_pred))"
   ]
  },
  {
   "cell_type": "markdown",
   "id": "b8af56a5",
   "metadata": {},
   "source": [
    "## Bringing it all together II: Pipeline for regression\n",
    "Here, We will use the Gapminder dataset. Guess what? Even this dataset has missing values that we dealt with for you in earlier chapters! Now, you have all the tools to take care of them yourself!\n",
    "\n",
    "Your job is to build a pipeline that imputes the missing data, scales the features, and fits an ElasticNet to the Gapminder data. You will then tune the l1_ratio of your ElasticNet using GridSearchCV.\n",
    "\n",
    "All the necessary modules have been imported, and the feature and target variable arrays have been pre-loaded as X and y."
   ]
  },
  {
   "cell_type": "code",
   "execution_count": null,
   "id": "ac74cbfa",
   "metadata": {},
   "outputs": [],
   "source": [
    "# Setup the pipeline steps: steps\n",
    "steps = [('imputation', Imputer(missing_values='NaN', strategy='mean', axis=0)),\n",
    "         ('scaler', StandardScaler()),\n",
    "         ('elasticnet', ElasticNet())]\n",
    "\n",
    "# Create the pipeline: pipeline \n",
    "pipeline = Pipeline(steps)\n",
    "\n",
    "# Specify the hyperparameter space\n",
    "parameters = {'elasticnet__l1_ratio':np.linspace(0,1,30)}\n",
    "\n",
    "# Create train and test sets\n",
    "X_train, X_test, y_train, y_test = train_test_split(X, y, test_size = 0.4, random_state = 42)\n",
    "\n",
    "# Create the GridSearchCV object: gm_cv\n",
    "gm_cv = GridSearchCV(pipeline,parameters)\n",
    "\n",
    "# Fit to the training set\n",
    "gm_cv.fit(X_train, y_train)\n",
    "\n",
    "# Compute and print the metrics\n",
    "r2 = gm_cv.score(X_test, y_test)\n",
    "print(\"Tuned ElasticNet Alpha: {}\".format(gm_cv.best_params_))\n",
    "print(\"Tuned ElasticNet R squared: {}\".format(r2))\n"
   ]
  }
 ],
 "metadata": {
  "kernelspec": {
   "display_name": "Python 3 (ipykernel)",
   "language": "python",
   "name": "python3"
  },
  "language_info": {
   "codemirror_mode": {
    "name": "ipython",
    "version": 3
   },
   "file_extension": ".py",
   "mimetype": "text/x-python",
   "name": "python",
   "nbconvert_exporter": "python",
   "pygments_lexer": "ipython3",
   "version": "3.9.13"
  }
 },
 "nbformat": 4,
 "nbformat_minor": 5
}
