{
 "cells": [
  {
   "cell_type": "markdown",
   "id": "9672efce",
   "metadata": {},
   "source": [
    "# Unsupervised Learning with Python, Part 2\n",
    "# --------------------------------------------------------------"
   ]
  },
  {
   "cell_type": "markdown",
   "id": "2f593b6d",
   "metadata": {},
   "source": [
    "# Dimensionality Reduction with PCA"
   ]
  },
  {
   "cell_type": "code",
   "execution_count": 1,
   "id": "22b49f0e",
   "metadata": {},
   "outputs": [],
   "source": [
    "import numpy as np\n",
    "import matplotlib.pyplot as plt\n",
    "import pandas as pd"
   ]
  },
  {
   "cell_type": "code",
   "execution_count": 2,
   "id": "cac28e60",
   "metadata": {},
   "outputs": [],
   "source": [
    "from sklearn import datasets"
   ]
  },
  {
   "cell_type": "markdown",
   "id": "84050291",
   "metadata": {},
   "source": [
    "### Wine Dataset"
   ]
  },
  {
   "cell_type": "code",
   "execution_count": 3,
   "id": "4d00abc9",
   "metadata": {},
   "outputs": [],
   "source": [
    "wine = datasets.load_wine()"
   ]
  },
  {
   "cell_type": "code",
   "execution_count": 4,
   "id": "e00d9d01",
   "metadata": {},
   "outputs": [
    {
     "data": {
      "text/plain": [
       "['alcohol',\n",
       " 'malic_acid',\n",
       " 'ash',\n",
       " 'alcalinity_of_ash',\n",
       " 'magnesium',\n",
       " 'total_phenols',\n",
       " 'flavanoids',\n",
       " 'nonflavanoid_phenols',\n",
       " 'proanthocyanins',\n",
       " 'color_intensity',\n",
       " 'hue',\n",
       " 'od280/od315_of_diluted_wines',\n",
       " 'proline']"
      ]
     },
     "execution_count": 4,
     "metadata": {},
     "output_type": "execute_result"
    }
   ],
   "source": [
    "wine.feature_names"
   ]
  },
  {
   "cell_type": "code",
   "execution_count": 5,
   "id": "158c8ffa",
   "metadata": {},
   "outputs": [
    {
     "data": {
      "text/plain": [
       "array(['class_0', 'class_1', 'class_2'], dtype='<U7')"
      ]
     },
     "execution_count": 5,
     "metadata": {},
     "output_type": "execute_result"
    }
   ],
   "source": [
    "wine.target_names"
   ]
  },
  {
   "cell_type": "code",
   "execution_count": 6,
   "id": "b3a9d86a",
   "metadata": {},
   "outputs": [],
   "source": [
    "data = wine.data"
   ]
  },
  {
   "cell_type": "code",
   "execution_count": 8,
   "id": "3c76f863",
   "metadata": {},
   "outputs": [
    {
     "data": {
      "text/plain": [
       "(178, 13)"
      ]
     },
     "execution_count": 8,
     "metadata": {},
     "output_type": "execute_result"
    }
   ],
   "source": [
    "data.shape"
   ]
  },
  {
   "cell_type": "code",
   "execution_count": 9,
   "id": "afaf9e85",
   "metadata": {},
   "outputs": [],
   "source": [
    "samples = data[:, [5, 11]]"
   ]
  },
  {
   "cell_type": "code",
   "execution_count": 11,
   "id": "a0b9b15a",
   "metadata": {},
   "outputs": [
    {
     "data": {
      "text/plain": [
       "(178, 2)"
      ]
     },
     "execution_count": 11,
     "metadata": {},
     "output_type": "execute_result"
    }
   ],
   "source": [
    "samples.shape"
   ]
  },
  {
   "cell_type": "code",
   "execution_count": 12,
   "id": "2ce28f09",
   "metadata": {},
   "outputs": [
    {
     "data": {
      "text/plain": [
       "array([[2.8 , 3.92],\n",
       "       [2.65, 3.4 ],\n",
       "       [2.8 , 3.17],\n",
       "       [3.85, 3.45],\n",
       "       [2.8 , 2.93],\n",
       "       [3.27, 2.85],\n",
       "       [2.5 , 3.58],\n",
       "       [2.6 , 3.58],\n",
       "       [2.8 , 2.85],\n",
       "       [2.98, 3.55],\n",
       "       [2.95, 3.17],\n",
       "       [2.2 , 2.82],\n",
       "       [2.6 , 2.9 ],\n",
       "       [3.1 , 2.73],\n",
       "       [3.3 , 3.  ],\n",
       "       [2.85, 2.88],\n",
       "       [2.8 , 2.65],\n",
       "       [2.95, 2.57],\n",
       "       [3.3 , 2.82],\n",
       "       [2.7 , 3.36],\n",
       "       [3.  , 3.71],\n",
       "       [2.41, 3.52],\n",
       "       [2.61, 4.  ],\n",
       "       [2.48, 3.63],\n",
       "       [2.53, 3.82],\n",
       "       [2.63, 3.2 ],\n",
       "       [2.85, 3.22],\n",
       "       [2.4 , 2.77],\n",
       "       [2.95, 3.4 ],\n",
       "       [2.65, 3.59],\n",
       "       [3.  , 2.71],\n",
       "       [2.86, 2.88],\n",
       "       [2.42, 2.87],\n",
       "       [2.95, 3.  ],\n",
       "       [2.35, 2.87],\n",
       "       [2.7 , 3.47],\n",
       "       [2.6 , 2.78],\n",
       "       [2.45, 2.51],\n",
       "       [2.4 , 2.69],\n",
       "       [3.  , 3.53],\n",
       "       [3.15, 3.38],\n",
       "       [2.45, 3.  ],\n",
       "       [3.25, 3.56],\n",
       "       [2.64, 3.  ],\n",
       "       [3.  , 3.35],\n",
       "       [2.85, 3.33],\n",
       "       [3.25, 3.44],\n",
       "       [3.1 , 3.33],\n",
       "       [2.75, 2.75],\n",
       "       [2.88, 3.1 ],\n",
       "       [2.72, 2.91],\n",
       "       [2.45, 3.37],\n",
       "       [3.88, 3.26],\n",
       "       [3.  , 2.93],\n",
       "       [2.6 , 3.2 ],\n",
       "       [2.96, 3.03],\n",
       "       [3.2 , 3.31],\n",
       "       [3.  , 2.84],\n",
       "       [3.4 , 2.87],\n",
       "       [1.98, 1.82],\n",
       "       [2.05, 1.67],\n",
       "       [2.02, 1.59],\n",
       "       [2.1 , 2.46],\n",
       "       [3.5 , 2.87],\n",
       "       [1.89, 2.23],\n",
       "       [2.42, 2.3 ],\n",
       "       [2.98, 3.18],\n",
       "       [2.11, 3.48],\n",
       "       [2.53, 1.93],\n",
       "       [1.85, 3.07],\n",
       "       [1.1 , 1.82],\n",
       "       [2.95, 3.16],\n",
       "       [1.88, 2.78],\n",
       "       [3.3 , 3.5 ],\n",
       "       [3.38, 3.13],\n",
       "       [1.61, 2.14],\n",
       "       [1.95, 2.48],\n",
       "       [1.72, 2.52],\n",
       "       [1.9 , 2.31],\n",
       "       [2.83, 3.13],\n",
       "       [2.42, 3.12],\n",
       "       [2.2 , 3.14],\n",
       "       [2.  , 2.72],\n",
       "       [1.65, 2.01],\n",
       "       [2.2 , 3.08],\n",
       "       [2.2 , 3.16],\n",
       "       [1.78, 2.26],\n",
       "       [1.92, 3.21],\n",
       "       [1.95, 2.75],\n",
       "       [2.2 , 3.21],\n",
       "       [1.6 , 2.27],\n",
       "       [1.45, 2.65],\n",
       "       [1.38, 2.06],\n",
       "       [2.45, 3.3 ],\n",
       "       [3.02, 2.96],\n",
       "       [2.5 , 2.63],\n",
       "       [1.6 , 2.26],\n",
       "       [2.55, 2.74],\n",
       "       [3.52, 2.77],\n",
       "       [2.85, 2.83],\n",
       "       [2.23, 2.96],\n",
       "       [1.45, 2.77],\n",
       "       [2.56, 3.38],\n",
       "       [2.5 , 2.44],\n",
       "       [2.2 , 3.57],\n",
       "       [1.68, 3.3 ],\n",
       "       [1.65, 3.17],\n",
       "       [1.38, 2.42],\n",
       "       [2.36, 3.02],\n",
       "       [2.74, 3.26],\n",
       "       [3.18, 2.81],\n",
       "       [2.55, 2.78],\n",
       "       [1.75, 2.5 ],\n",
       "       [2.48, 2.31],\n",
       "       [2.56, 3.19],\n",
       "       [2.46, 2.87],\n",
       "       [1.98, 3.33],\n",
       "       [2.  , 2.96],\n",
       "       [1.63, 2.12],\n",
       "       [2.  , 3.05],\n",
       "       [2.9 , 3.39],\n",
       "       [3.18, 3.69],\n",
       "       [2.2 , 3.12],\n",
       "       [2.62, 3.1 ],\n",
       "       [2.86, 3.64],\n",
       "       [2.6 , 3.28],\n",
       "       [2.74, 2.84],\n",
       "       [2.13, 2.44],\n",
       "       [2.22, 2.78],\n",
       "       [2.1 , 2.57],\n",
       "       [1.51, 1.29],\n",
       "       [1.3 , 1.42],\n",
       "       [1.15, 1.36],\n",
       "       [1.7 , 1.29],\n",
       "       [2.  , 1.51],\n",
       "       [1.62, 1.58],\n",
       "       [1.38, 1.27],\n",
       "       [1.79, 1.69],\n",
       "       [1.62, 1.82],\n",
       "       [2.32, 2.15],\n",
       "       [1.54, 2.31],\n",
       "       [1.4 , 2.47],\n",
       "       [1.55, 2.06],\n",
       "       [2.  , 2.05],\n",
       "       [1.38, 2.  ],\n",
       "       [1.5 , 1.68],\n",
       "       [0.98, 1.33],\n",
       "       [1.7 , 1.86],\n",
       "       [1.93, 1.62],\n",
       "       [1.41, 1.33],\n",
       "       [1.4 , 1.3 ],\n",
       "       [1.48, 1.47],\n",
       "       [2.2 , 1.33],\n",
       "       [1.8 , 1.51],\n",
       "       [1.48, 1.55],\n",
       "       [1.74, 1.48],\n",
       "       [1.8 , 1.64],\n",
       "       [1.9 , 1.73],\n",
       "       [2.8 , 1.96],\n",
       "       [2.6 , 1.78],\n",
       "       [2.3 , 1.58],\n",
       "       [1.83, 1.82],\n",
       "       [1.65, 2.11],\n",
       "       [1.39, 1.75],\n",
       "       [1.35, 1.68],\n",
       "       [1.28, 1.75],\n",
       "       [1.7 , 1.56],\n",
       "       [1.48, 1.75],\n",
       "       [1.55, 1.8 ],\n",
       "       [1.98, 1.92],\n",
       "       [1.25, 1.83],\n",
       "       [1.39, 1.63],\n",
       "       [1.68, 1.71],\n",
       "       [1.68, 1.74],\n",
       "       [1.8 , 1.56],\n",
       "       [1.59, 1.56],\n",
       "       [1.65, 1.62],\n",
       "       [2.05, 1.6 ]])"
      ]
     },
     "execution_count": 12,
     "metadata": {},
     "output_type": "execute_result"
    }
   ],
   "source": [
    "samples"
   ]
  },
  {
   "cell_type": "markdown",
   "id": "90d6134d",
   "metadata": {},
   "source": [
    "### Step 1: decorrelating data "
   ]
  },
  {
   "cell_type": "code",
   "execution_count": 13,
   "id": "229a171d",
   "metadata": {},
   "outputs": [
    {
     "data": {
      "text/plain": [
       "PCA()"
      ]
     },
     "execution_count": 13,
     "metadata": {},
     "output_type": "execute_result"
    }
   ],
   "source": [
    "from sklearn.decomposition import PCA\n",
    "model = PCA()\n",
    "model.fit(samples)"
   ]
  },
  {
   "cell_type": "code",
   "execution_count": 14,
   "id": "05f9391a",
   "metadata": {},
   "outputs": [],
   "source": [
    "transformed = model.transform(samples)"
   ]
  },
  {
   "cell_type": "code",
   "execution_count": 25,
   "id": "3cb3e8ba",
   "metadata": {},
   "outputs": [
    {
     "name": "stdout",
     "output_type": "stream",
     "text": [
      "[[-1.32771994e+00  4.51396070e-01]\n",
      " [-8.32496068e-01  2.33099664e-01]\n",
      " [-7.52168680e-01 -2.94789161e-02]\n",
      " [-1.64026613e+00 -6.55724013e-01]\n",
      " [-5.67992278e-01 -1.83358911e-01]\n",
      " [-8.07948468e-01 -5.95331030e-01]\n",
      " [-8.74453372e-01  4.63619912e-01]\n",
      " [-9.38570037e-01  3.86879744e-01]\n",
      " [-5.06600144e-01 -2.34652243e-01]\n",
      " [-1.15919131e+00  7.60321086e-02]\n",
      " [-8.48343677e-01 -1.44589167e-01]\n",
      " [-9.88781053e-02  2.06553762e-01]\n",
      " [-4.16736898e-01 -4.91135760e-02]\n",
      " [-6.06861937e-01 -5.41812743e-01]\n",
      " [-9.42293719e-01 -5.22178083e-01]\n",
      " [-5.61680527e-01 -2.53787328e-01]\n",
      " [-3.53119809e-01 -3.62885573e-01]\n",
      " [-3.87902672e-01 -5.29289156e-01]\n",
      " [-8.04161418e-01 -6.37588080e-01]\n",
      " [-8.33858333e-01  1.69082914e-01]\n",
      " [-1.29479891e+00  1.63270739e-01]\n",
      " [-7.70704274e-01  4.94216064e-01]\n",
      " [-1.26729041e+00  6.48495720e-01]\n",
      " [-9.00000123e-01  5.11026278e-01]\n",
      " [-1.07786477e+00  5.94477857e-01]\n",
      " [-6.66192400e-01  1.20214368e-01]\n",
      " [-8.22597096e-01 -3.57906674e-02]\n",
      " [-1.88741351e-01  2.10150947e-02]\n",
      " [-1.02484606e+00  2.87916168e-03]\n",
      " [-9.78302386e-01  3.54921327e-01]\n",
      " [-5.27397239e-01 -4.77895909e-01]\n",
      " [-5.68092193e-01 -2.61461344e-01]\n",
      " [-2.78304852e-01  6.97837260e-02]\n",
      " [-7.17885392e-01 -2.53587497e-01]\n",
      " [-2.33423186e-01  1.23501843e-01]\n",
      " [-9.18272518e-01  2.39611246e-01]\n",
      " [-3.24648697e-01 -1.26053574e-01]\n",
      " [-2.12752481e-02 -1.84058317e-01]\n",
      " [-1.27349217e-01 -3.02782371e-02]\n",
      " [-1.15666661e+00  4.78607421e-02]\n",
      " [-1.13773136e+00 -1.63424506e-01]\n",
      " [-3.97302069e-01  1.30113340e-01]\n",
      " [-1.33998032e+00 -1.24754677e-01]\n",
      " [-5.19123732e-01 -1.56929782e-02]\n",
      " [-1.01853431e+00 -6.75492544e-02]\n",
      " [-9.07011280e-01  3.47376638e-02]\n",
      " [-1.24789212e+00 -2.01694675e-01]\n",
      " [-1.06730294e+00 -1.57112755e-01]\n",
      " [-3.97801644e-01 -2.60398824e-01]\n",
      " [-7.49743895e-01 -1.35752715e-01]\n",
      " [-5.01350913e-01 -1.34790110e-01]\n",
      " [-6.81240688e-01  3.67345000e-01]\n",
      " [-1.51369481e+00 -8.00567726e-01]\n",
      " [-6.96225608e-01 -3.36839246e-01]\n",
      " [-6.46957401e-01  1.43236418e-01]\n",
      " [-7.47319109e-01 -2.42026515e-01]\n",
      " [-1.11607157e+00 -2.46676255e-01]\n",
      " [-6.27159457e-01 -3.94544245e-01]\n",
      " [-9.06648166e-01 -6.82269915e-01]\n",
      " [ 8.09580232e-01 -2.65784517e-01]\n",
      " [ 8.79808818e-01 -4.15677631e-01]\n",
      " [ 9.60435951e-01 -4.43948913e-01]\n",
      " [ 2.41503162e-01  5.24739364e-02]\n",
      " [-9.70764831e-01 -7.59010083e-01]\n",
      " [ 5.52650543e-01  6.61599591e-02]\n",
      " [ 1.59114103e-01 -2.95681263e-01]\n",
      " [-8.75252693e-01 -1.61199551e-01]\n",
      " [-5.47658212e-01  6.98789900e-01]\n",
      " [ 3.72524391e-01 -6.17327107e-01]\n",
      " [-6.63201973e-02  6.35436010e-01]\n",
      " [ 1.37380688e+00  4.09528957e-01]\n",
      " [-8.40669660e-01 -1.51000834e-01]\n",
      " [ 1.36991289e-01  4.26475632e-01]\n",
      " [-1.32599456e+00 -2.01594760e-01]\n",
      " [-1.09334927e+00 -5.00218553e-01]\n",
      " [ 8.01243355e-01  2.23327430e-01]\n",
      " [ 3.22330126e-01  1.80407521e-01]\n",
      " [ 4.39102388e-01  3.82556572e-01]\n",
      " [ 4.84846743e-01  1.09779274e-01]\n",
      " [-7.40707612e-01 -7.81476322e-02]\n",
      " [-4.70155270e-01  2.30075388e-01]\n",
      " [-3.44446641e-01  4.11727089e-01]\n",
      " [ 1.06095392e-01  2.95917432e-01]\n",
      " [ 8.75358907e-01  1.09279699e-01]\n",
      " [-2.98402541e-01  3.73257090e-01]\n",
      " [-3.59794675e-01  4.24550422e-01]\n",
      " [ 6.00156824e-01  1.69809143e-01]\n",
      " [-2.18638097e-01  6.71481223e-01]\n",
      " [ 1.15131674e-01  3.53522515e-01]\n",
      " [-3.98164758e-01  4.56608755e-01]\n",
      " [ 7.07892804e-01  3.14353111e-01]\n",
      " [ 5.12455165e-01  6.73106688e-01]\n",
      " [ 1.01010382e+00  3.48536483e-01]\n",
      " [-6.27522571e-01  3.22463334e-01]\n",
      " [-7.32070991e-01 -3.32952280e-01]\n",
      " [-1.45421781e-01 -1.45488403e-01]\n",
      " [ 7.15566821e-01  3.07941444e-01]\n",
      " [-2.61894298e-01 -1.13330156e-01]\n",
      " [-9.06847996e-01 -8.38474781e-01]\n",
      " [-5.23310443e-01 -2.85845660e-01]\n",
      " [-2.25549339e-01  2.73295042e-01]\n",
      " [ 4.20366964e-01  7.50046686e-01]\n",
      " [-7.59443036e-01  2.89342482e-01]\n",
      " [ 3.84536736e-04 -2.67310066e-01]\n",
      " [-6.74429361e-01  6.87428748e-01]\n",
      " [-1.33824252e-01  9.13362624e-01]\n",
      " [-1.48270353e-02  8.53033010e-01]\n",
      " [ 7.33839215e-01  5.79356476e-01]\n",
      " [-3.54945104e-01  2.12002824e-01]\n",
      " [-7.82764832e-01  7.42701827e-02]\n",
      " [-7.19547403e-01 -5.51911546e-01]\n",
      " [-2.92590365e-01 -8.76834900e-02]\n",
      " [ 4.35215422e-01  3.46711188e-01]\n",
      " [ 1.12970087e-01 -3.35313697e-01]\n",
      " [-6.13636718e-01  1.67520819e-01]\n",
      " [-3.03951517e-01  3.90876590e-02]\n",
      " [-3.49196297e-01  7.02377121e-01]\n",
      " [-7.80810103e-02  4.49797428e-01]\n",
      " [ 8.03768056e-01  1.95156063e-01]\n",
      " [-1.47147161e-01  5.07502426e-01]\n",
      " [-9.85113713e-01  3.48375789e-02]\n",
      " [-1.39486088e+00  1.23151043e-02]\n",
      " [-3.29098608e-01  3.98903756e-01]\n",
      " [-5.83040566e-01  6.37717200e-02]\n",
      " [-1.15131747e+00  2.25825308e-01]\n",
      " [-7.08349535e-01  1.94529750e-01]\n",
      " [-4.60456128e-01 -1.95019809e-01]\n",
      " [ 2.37616196e-01  1.66285532e-02]\n",
      " [-8.10053713e-02  1.65559063e-01]\n",
      " [ 1.57088978e-01  1.23002268e-01]\n",
      " [ 1.51765144e+00 -2.44924053e-01]\n",
      " [ 1.55253422e+00 -4.18037417e-04]\n",
      " [ 1.69475332e+00  7.62222149e-02]\n",
      " [ 1.39582978e+00 -3.90730371e-01]\n",
      " [ 1.03465142e+00 -4.79894211e-01]\n",
      " [ 1.22457663e+00 -1.43399910e-01]\n",
      " [ 1.61635114e+00 -1.57985169e-01]\n",
      " [ 1.03116411e+00 -2.03329863e-01]\n",
      " [ 1.04040022e+00  1.04800857e-02]\n",
      " [ 3.38341019e-01 -3.15116093e-01]\n",
      " [ 7.15666736e-01  3.86043877e-01]\n",
      " [ 6.82645799e-01  5.96066775e-01]\n",
      " [ 9.01105488e-01  2.18078198e-01]\n",
      " [ 6.20254514e-01 -1.33664222e-01]\n",
      " [ 1.05614792e+00  3.10066484e-01]\n",
      " [ 1.22477646e+00  1.28049560e-02]\n",
      " [ 1.82677370e+00  1.87445500e-01]\n",
      " [ 9.58410826e-01 -2.52653823e-02]\n",
      " [ 9.95118899e-01 -3.55647763e-01]\n",
      " [ 1.55107204e+00 -1.42537220e-01]\n",
      " [ 1.58050576e+00 -1.54098203e-01]\n",
      " [ 1.39875414e+00 -1.06492006e-01]\n",
      " [ 1.04455039e+00 -7.48784543e-01]\n",
      " [ 1.16288475e+00 -3.26413876e-01]\n",
      " [ 1.33736201e+00 -5.51986747e-02]\n",
      " [ 1.22437680e+00 -2.99604775e-01]\n",
      " [ 1.06312253e+00 -2.43062212e-01]\n",
      " [ 9.29939714e-01 -2.62097381e-01]\n",
      " [ 1.76387346e-01 -8.05290560e-01]\n",
      " [ 4.42752977e-01 -7.67220221e-01]\n",
      " [ 7.88583306e-01 -6.65233048e-01]\n",
      " [ 9.05755229e-01 -1.50674266e-01]\n",
      " [ 7.98618740e-01  1.73396363e-01]\n",
      " [ 1.24158667e+00  1.42100806e-01]\n",
      " [ 1.32095145e+00  1.27915207e-01]\n",
      " [ 1.31211500e+00  2.26514990e-01]\n",
      " [ 1.18863133e+00 -2.17615377e-01]\n",
      " [ 1.18388167e+00  7.30346548e-02]\n",
      " [ 1.10062992e+00  5.13748700e-02]\n",
      " [ 7.32840064e-01 -2.01667852e-01]\n",
      " [ 1.26995787e+00  3.00830372e-01]\n",
      " [ 1.33367487e+00  6.51608079e-02]\n",
      " [ 1.08634441e+00 -1.06092346e-01]\n",
      " [ 1.06332236e+00 -8.68573465e-02]\n",
      " [ 1.12451466e+00 -2.94355544e-01]\n",
      " [ 1.25915966e+00 -1.33201192e-01]\n",
      " [ 1.17464556e+00 -1.40775294e-01]\n",
      " [ 9.33526935e-01 -4.60559297e-01]]\n"
     ]
    }
   ],
   "source": [
    "print(transformed)"
   ]
  },
  {
   "cell_type": "code",
   "execution_count": 22,
   "id": "95a87c8e",
   "metadata": {},
   "outputs": [
    {
     "data": {
      "text/plain": [
       "-1.995906561123877e-17"
      ]
     },
     "execution_count": 22,
     "metadata": {},
     "output_type": "execute_result"
    }
   ],
   "source": [
    "transformed.mean()"
   ]
  },
  {
   "cell_type": "markdown",
   "id": "e87f55ed",
   "metadata": {},
   "source": [
    "#### Principal Components:"
   ]
  },
  {
   "cell_type": "code",
   "execution_count": 16,
   "id": "28df0d8e",
   "metadata": {},
   "outputs": [
    {
     "data": {
      "text/plain": [
       "array([[-0.64116665, -0.76740167],\n",
       "       [-0.76740167,  0.64116665]])"
      ]
     },
     "execution_count": 16,
     "metadata": {},
     "output_type": "execute_result"
    }
   ],
   "source": [
    "model.components_"
   ]
  },
  {
   "cell_type": "markdown",
   "id": "a48b2110",
   "metadata": {},
   "source": [
    "#### Plotting the samples and transformed samples"
   ]
  },
  {
   "cell_type": "code",
   "execution_count": 20,
   "id": "a4c84ea2",
   "metadata": {},
   "outputs": [
    {
     "data": {
      "image/png": "[encoded data removed]",
      "text/plain": [
       "<Figure size 640x480 with 1 Axes>"
      ]
     },
     "metadata": {},
     "output_type": "display_data"
    }
   ],
   "source": [
    "## samples\n",
    "plt.style.use('fivethirtyeight')\n",
    "xs = samples[:, 0]\n",
    "ys = samples[:, 1]\n",
    "plt.scatter(xs, ys, c = wine.target)\n",
    "plt.show()"
   ]
  },
  {
   "cell_type": "code",
   "execution_count": 23,
   "id": "12f0566a",
   "metadata": {},
   "outputs": [
    {
     "data": {
      "image/png": "[encoded data removed]",
      "text/plain": [
       "<Figure size 640x480 with 1 Axes>"
      ]
     },
     "metadata": {},
     "output_type": "display_data"
    }
   ],
   "source": [
    "## transformed samples\n",
    "plt.style.use('fivethirtyeight')\n",
    "xs = transformed[:, 0]\n",
    "ys = transformed[:, 1]\n",
    "plt.scatter(xs, ys, c = wine.target)\n",
    "plt.show()"
   ]
  },
  {
   "cell_type": "markdown",
   "id": "518b790b",
   "metadata": {},
   "source": [
    "### Correlations"
   ]
  },
  {
   "cell_type": "code",
   "execution_count": 27,
   "id": "b6ca0f61",
   "metadata": {},
   "outputs": [],
   "source": [
    "# pearson correlation metric\n",
    "from scipy.stats import pearsonr"
   ]
  },
  {
   "cell_type": "code",
   "execution_count": 28,
   "id": "1396b467",
   "metadata": {},
   "outputs": [],
   "source": [
    "correlation, p_Value = pearsonr(samples[:, 0], samples[:,1])"
   ]
  },
  {
   "cell_type": "code",
   "execution_count": 29,
   "id": "84b2f935",
   "metadata": {},
   "outputs": [
    {
     "name": "stdout",
     "output_type": "stream",
     "text": [
      "0.6999493647911862 1.59398003220218e-27\n"
     ]
    }
   ],
   "source": [
    "print (correlation, p_Value)"
   ]
  },
  {
   "cell_type": "code",
   "execution_count": 30,
   "id": "dc8dcaf9",
   "metadata": {},
   "outputs": [],
   "source": [
    "correlation2, p_Value_2 = pearsonr(transformed[:, 0], transformed[:,1])"
   ]
  },
  {
   "cell_type": "code",
   "execution_count": 31,
   "id": "c9c74fe1",
   "metadata": {},
   "outputs": [
    {
     "name": "stdout",
     "output_type": "stream",
     "text": [
      "6.245004513516506e-16 0.9999999999999024\n"
     ]
    }
   ],
   "source": [
    "print (correlation2, p_Value_2)"
   ]
  },
  {
   "cell_type": "markdown",
   "id": "f6f433ea",
   "metadata": {},
   "source": [
    "## Step 1 with the whole features"
   ]
  },
  {
   "cell_type": "code",
   "execution_count": 33,
   "id": "38f345c4",
   "metadata": {},
   "outputs": [
    {
     "data": {
      "text/plain": [
       "PCA()"
      ]
     },
     "execution_count": 33,
     "metadata": {},
     "output_type": "execute_result"
    }
   ],
   "source": [
    "from sklearn.preprocessing import StandardScaler\n",
    "from sklearn.decomposition import PCA\n",
    "pca = PCA()\n",
    "pca.fit(data)"
   ]
  },
  {
   "cell_type": "code",
   "execution_count": 35,
   "id": "50eabb37",
   "metadata": {},
   "outputs": [],
   "source": [
    "trans_data = pca.transform(data)"
   ]
  },
  {
   "cell_type": "code",
   "execution_count": 64,
   "id": "49f1d7e1",
   "metadata": {},
   "outputs": [
    {
     "data": {
      "text/plain": [
       "(178, 13)"
      ]
     },
     "execution_count": 64,
     "metadata": {},
     "output_type": "execute_result"
    }
   ],
   "source": [
    "trans_data.shape"
   ]
  },
  {
   "cell_type": "code",
   "execution_count": 41,
   "id": "7f92fbc7",
   "metadata": {},
   "outputs": [
    {
     "data": {
      "text/plain": [
       "13"
      ]
     },
     "execution_count": 41,
     "metadata": {},
     "output_type": "execute_result"
    }
   ],
   "source": [
    "pca.n_components_"
   ]
  },
  {
   "cell_type": "code",
   "execution_count": 53,
   "id": "99eca4e3",
   "metadata": {
    "scrolled": true
   },
   "outputs": [
    {
     "data": {
      "text/plain": [
       "array([[ 1.65926472e-03, -6.81015556e-04,  1.94905742e-04,\n",
       "        -4.67130058e-03,  1.78680075e-02,  9.89829680e-04,\n",
       "         1.56728830e-03, -1.23086662e-04,  6.00607792e-04,\n",
       "         2.32714319e-03,  1.71380037e-04,  7.04931645e-04,\n",
       "         9.99822937e-01],\n",
       "       [ 1.20340617e-03,  2.15498184e-03,  4.59369254e-03,\n",
       "         2.64503930e-02,  9.99344186e-01,  8.77962152e-04,\n",
       "        -5.18507284e-05, -1.35447892e-03,  5.00440040e-03,\n",
       "         1.51003530e-02, -7.62673115e-04, -3.49536431e-03,\n",
       "        -1.77738095e-02],\n",
       "       [-1.68738094e-02, -1.22003373e-01, -5.19874304e-02,\n",
       "        -9.38593003e-01,  2.97802484e-02,  4.04846439e-02,\n",
       "         8.54433387e-02, -1.35107797e-02,  2.46593824e-02,\n",
       "        -2.91398464e-01,  2.59776624e-02,  7.03239693e-02,\n",
       "        -4.52868159e-03],\n",
       "       [-1.41446778e-01, -1.60389543e-01,  9.77280992e-03,\n",
       "         3.30965260e-01,  5.39375605e-03,  7.45846556e-02,\n",
       "         1.69086724e-01, -1.08055610e-02,  5.01209524e-02,\n",
       "        -8.78893693e-01,  6.00349446e-02,  1.78200254e-01,\n",
       "         3.11291570e-03],\n",
       "       [ 2.03369773e-02, -6.12883454e-01,  2.01755752e-02,\n",
       "         6.43523403e-02, -6.14934472e-03,  3.15245063e-01,\n",
       "         5.24761088e-01, -2.96475124e-02,  2.51182529e-01,\n",
       "         3.31747051e-01,  5.15240771e-02,  2.60639176e-01,\n",
       "        -2.29856939e-03],\n",
       "       [ 1.94120104e-01,  7.42472963e-01,  4.17529118e-02,\n",
       "        -2.40653026e-02, -1.92378154e-03,  2.78716809e-01,\n",
       "         4.33597955e-01, -2.19528343e-02,  2.41884488e-01,\n",
       "         2.73960896e-03, -2.37761666e-02,  2.88912753e-01,\n",
       "        -1.21225507e-03],\n",
       "       [-9.23280337e-01,  1.50109941e-01, -4.50095493e-02,\n",
       "        -3.15265835e-02, -1.79736268e-03,  2.01857100e-02,\n",
       "         3.88685182e-02,  4.66548296e-03,  3.09799487e-01,\n",
       "         1.12836514e-01, -3.08198127e-02, -1.01973518e-01,\n",
       "         1.07618923e-03],\n",
       "       [-2.84820658e-01,  6.46744678e-02,  1.49339532e-01,\n",
       "        -1.51539118e-02,  3.55221241e-03,  1.77237945e-01,\n",
       "         2.48116635e-01, -6.49796752e-03, -8.70433157e-01,\n",
       "         8.12869205e-02,  2.95190435e-03,  1.86714531e-01,\n",
       "        -1.03409482e-05],\n",
       "       [-8.66006124e-02, -1.56621385e-02, -7.36498524e-02,\n",
       "        -2.04457785e-03,  1.96366816e-03, -2.55672918e-01,\n",
       "        -3.78306653e-01, -3.67520428e-02,  5.15201690e-02,\n",
       "         9.90290846e-02, -3.30651238e-02,  8.73746543e-01,\n",
       "         7.25585209e-05],\n",
       "       [-2.24499994e-03, -1.85093501e-02, -8.67996529e-02,\n",
       "         3.55402799e-03, -4.05154189e-05,  8.47195073e-01,\n",
       "        -5.20138389e-01,  3.77131942e-02,  9.72275203e-03,\n",
       "        -2.31471169e-02, -3.84698250e-02,  1.70170830e-02,\n",
       "         4.92663809e-05],\n",
       "       [-1.49715080e-02, -2.31876506e-02,  9.54010643e-01,\n",
       "        -5.28216953e-02, -3.02488821e-03,  8.80160701e-03,\n",
       "        -1.33204612e-01,  1.99178984e-01,  1.35621460e-01,\n",
       "        -9.81967171e-03,  9.75106606e-02,  2.84851062e-02,\n",
       "        -2.40452216e-04],\n",
       "       [-1.56514071e-02,  6.72955455e-02, -1.32063034e-01,\n",
       "         5.39380582e-03,  6.20888455e-04,  3.88290281e-03,\n",
       "        -3.74880307e-02,  1.47552442e-01, -1.31188252e-02,\n",
       "         5.03555691e-02,  9.75561893e-01,  1.16302516e-02,\n",
       "        -9.99995129e-05],\n",
       "       [ 8.02924535e-03, -1.10903923e-02, -1.73685673e-01,\n",
       "         1.93956297e-03,  2.28453582e-03, -2.66914407e-02,\n",
       "         6.95985330e-02,  9.66466227e-01, -1.76035672e-02,\n",
       "        -4.63294250e-03, -1.66550828e-01,  4.41922433e-02,\n",
       "         3.62670135e-05]])"
      ]
     },
     "execution_count": 53,
     "metadata": {},
     "output_type": "execute_result"
    }
   ],
   "source": [
    "pca.components_"
   ]
  },
  {
   "cell_type": "code",
   "execution_count": 51,
   "id": "873174cd",
   "metadata": {},
   "outputs": [
    {
     "data": {
      "text/plain": [
       "array([1.30006180e+01, 2.33634831e+00, 2.36651685e+00, 1.94949438e+01,\n",
       "       9.97415730e+01, 2.29511236e+00, 2.02926966e+00, 3.61853933e-01,\n",
       "       1.59089888e+00, 5.05808988e+00, 9.57449438e-01, 2.61168539e+00,\n",
       "       7.46893258e+02])"
      ]
     },
     "execution_count": 51,
     "metadata": {},
     "output_type": "execute_result"
    }
   ],
   "source": [
    "pca.mean_"
   ]
  },
  {
   "cell_type": "code",
   "execution_count": 38,
   "id": "8daa78b1",
   "metadata": {
    "scrolled": true
   },
   "outputs": [
    {
     "data": {
      "text/plain": [
       "array([9.92017895e+04, 1.72535266e+02, 9.43811370e+00, 4.99117861e+00,\n",
       "       1.22884523e+00, 8.41063869e-01, 2.78973523e-01, 1.51381266e-01,\n",
       "       1.12096765e-01, 7.17026032e-02, 3.75759789e-02, 2.10723661e-02,\n",
       "       8.20370314e-03])"
      ]
     },
     "execution_count": 38,
     "metadata": {},
     "output_type": "execute_result"
    }
   ],
   "source": [
    "pca.explained_variance_"
   ]
  },
  {
   "cell_type": "markdown",
   "id": "4ca99238",
   "metadata": {},
   "source": [
    "### Step 2: finding the intrinsic dimension"
   ]
  },
  {
   "cell_type": "code",
   "execution_count": 42,
   "id": "8b1803d8",
   "metadata": {},
   "outputs": [],
   "source": [
    "variance = pca.explained_variance_\n",
    "features = np.arange(pca.n_components_)"
   ]
  },
  {
   "cell_type": "code",
   "execution_count": 46,
   "id": "a5ae1e37",
   "metadata": {},
   "outputs": [
    {
     "data": {
      "image/png": "[encoded data removed]",
      "text/plain": [
       "<Figure size 640x480 with 1 Axes>"
      ]
     },
     "metadata": {},
     "output_type": "display_data"
    }
   ],
   "source": [
    "\n",
    "plt.bar(features, variance)\n",
    "plt.xticks(features)\n",
    "plt.xlabel('PCA Features')\n",
    "plt.ylabel('Variance')\n",
    "plt.show()"
   ]
  },
  {
   "cell_type": "markdown",
   "id": "9e0b00b9",
   "metadata": {},
   "source": [
    "### intrinsic features = 1"
   ]
  },
  {
   "cell_type": "code",
   "execution_count": 49,
   "id": "e1d7cf87",
   "metadata": {},
   "outputs": [
    {
     "data": {
      "image/png": "[encoded data removed]",
      "text/plain": [
       "<Figure size 640x480 with 1 Axes>"
      ]
     },
     "metadata": {},
     "output_type": "display_data"
    }
   ],
   "source": [
    "plt.bar(features[1:], variance[1:])\n",
    "plt.xticks(features)\n",
    "plt.xlabel('PCA Features')\n",
    "plt.ylabel('Variance')\n",
    "plt.show()"
   ]
  },
  {
   "cell_type": "markdown",
   "id": "df06b712",
   "metadata": {},
   "source": [
    "### intrinsic dimension = 2  or 4"
   ]
  },
  {
   "cell_type": "code",
   "execution_count": 56,
   "id": "0cf0a107",
   "metadata": {},
   "outputs": [],
   "source": [
    "data_pca = pca.components_[0:3]"
   ]
  },
  {
   "cell_type": "code",
   "execution_count": 63,
   "id": "d059cfb2",
   "metadata": {},
   "outputs": [
    {
     "data": {
      "text/plain": [
       "(3, 13)"
      ]
     },
     "execution_count": 63,
     "metadata": {},
     "output_type": "execute_result"
    }
   ],
   "source": [
    "data_pca.shape\n"
   ]
  },
  {
   "cell_type": "code",
   "execution_count": 65,
   "id": "cff84f37",
   "metadata": {},
   "outputs": [],
   "source": [
    "reduced_data = trans_data[:, 0:3]"
   ]
  },
  {
   "cell_type": "code",
   "execution_count": 66,
   "id": "e33853f8",
   "metadata": {},
   "outputs": [
    {
     "data": {
      "text/plain": [
       "(178, 3)"
      ]
     },
     "execution_count": 66,
     "metadata": {},
     "output_type": "execute_result"
    }
   ],
   "source": [
    "reduced_data.shape"
   ]
  },
  {
   "cell_type": "markdown",
   "id": "3e42ba69",
   "metadata": {},
   "source": [
    "## PCA with standard Scaler"
   ]
  },
  {
   "cell_type": "code",
   "execution_count": 67,
   "id": "8d872fc4",
   "metadata": {},
   "outputs": [],
   "source": [
    "from sklearn.preprocessing import StandardScaler\n",
    "from sklearn.decomposition import PCA\n",
    "from sklearn.pipeline import make_pipeline"
   ]
  },
  {
   "cell_type": "code",
   "execution_count": 68,
   "id": "d06a50b9",
   "metadata": {},
   "outputs": [],
   "source": [
    "scaler = StandardScaler()\n",
    "pca = PCA()\n",
    "pipeline = make_pipeline(scaler, pca)"
   ]
  },
  {
   "cell_type": "code",
   "execution_count": 69,
   "id": "61811a7e",
   "metadata": {},
   "outputs": [
    {
     "data": {
      "text/plain": [
       "Pipeline(steps=[('standardscaler', StandardScaler()), ('pca', PCA())])"
      ]
     },
     "execution_count": 69,
     "metadata": {},
     "output_type": "execute_result"
    }
   ],
   "source": [
    "pipeline.fit(data)"
   ]
  },
  {
   "cell_type": "code",
   "execution_count": 71,
   "id": "31ac9999",
   "metadata": {},
   "outputs": [],
   "source": [
    "trans_data = pipeline.transform(data)"
   ]
  },
  {
   "cell_type": "code",
   "execution_count": 72,
   "id": "3f652645",
   "metadata": {},
   "outputs": [
    {
     "data": {
      "text/plain": [
       "(178, 13)"
      ]
     },
     "execution_count": 72,
     "metadata": {},
     "output_type": "execute_result"
    }
   ],
   "source": [
    "trans_data.shape"
   ]
  },
  {
   "cell_type": "code",
   "execution_count": 73,
   "id": "a78772b3",
   "metadata": {},
   "outputs": [],
   "source": [
    "variance = pca.explained_variance_\n",
    "features = np.arange(pca.n_components_)"
   ]
  },
  {
   "cell_type": "code",
   "execution_count": 74,
   "id": "c0fd03d8",
   "metadata": {},
   "outputs": [
    {
     "data": {
      "image/png": "[encoded data removed]",
      "text/plain": [
       "<Figure size 640x480 with 1 Axes>"
      ]
     },
     "metadata": {},
     "output_type": "display_data"
    }
   ],
   "source": [
    "\n",
    "plt.bar(features, variance)\n",
    "plt.xticks(features)\n",
    "plt.xlabel('PCA Features')\n",
    "plt.ylabel('Variance')\n",
    "plt.show()"
   ]
  },
  {
   "cell_type": "markdown",
   "id": "4606fd74",
   "metadata": {},
   "source": [
    "### intrinsic dimension = 3 or 5"
   ]
  },
  {
   "cell_type": "code",
   "execution_count": null,
   "id": "7c2eb9ae",
   "metadata": {},
   "outputs": [],
   "source": []
  }
 ],
 "metadata": {
  "kernelspec": {
   "display_name": "Python 3 (ipykernel)",
   "language": "python",
   "name": "python3"
  },
  "language_info": {
   "codemirror_mode": {
    "name": "ipython",
    "version": 3
   },
   "file_extension": ".py",
   "mimetype": "text/x-python",
   "name": "python",
   "nbconvert_exporter": "python",
   "pygments_lexer": "ipython3",
   "version": "3.9.13"
  }
 },
 "nbformat": 4,
 "nbformat_minor": 5
}
